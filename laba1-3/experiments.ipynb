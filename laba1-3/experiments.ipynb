{
 "cells": [
  {
   "cell_type": "code",
   "execution_count": 1,
   "metadata": {},
   "outputs": [],
   "source": [
    "import os\n",
    "import pandas as pd\n",
    "import numpy as np\n",
    "import matplotlib.pyplot as plt\n",
    "from tqdm import tqdm\n",
    "from sklearn.model_selection import train_test_split\n",
    "from sklearn.svm import SVC\n",
    "from sklearn.linear_model import LogisticRegression\n",
    "from sklearn.decomposition import PCA\n",
    "from joblib import dump, load\n",
    "\n",
    "from data_engineering import read_data, get_filter_duplicates_query"
   ]
  },
  {
   "cell_type": "code",
   "execution_count": 3,
   "metadata": {},
   "outputs": [
    {
     "data": {
      "text/plain": [
       "['/job:localhost/replica:0/task:0/device:GPU:0']"
      ]
     },
     "execution_count": 3,
     "metadata": {},
     "output_type": "execute_result"
    }
   ],
   "source": [
    "import tensorflow as tf\n",
    "from keras.backend.tensorflow_backend import set_session\n",
    "from keras import backend as K\n",
    "\n",
    "config = tf.ConfigProto()\n",
    "config.gpu_options.per_process_gpu_memory_fraction = 0.9\n",
    "set_session(tf.Session(config=config))\n",
    "K.tensorflow_backend._get_available_gpus()"
   ]
  },
  {
   "cell_type": "code",
   "execution_count": 4,
   "metadata": {},
   "outputs": [],
   "source": [
    "from keras import layers, models, optimizers, callbacks, regularizers"
   ]
  },
  {
   "cell_type": "markdown",
   "metadata": {},
   "source": [
    "### Чтение данных"
   ]
  },
  {
   "cell_type": "code",
   "execution_count": 6,
   "metadata": {},
   "outputs": [],
   "source": [
    "DATA_PATH = '/home/ataleckij/Projects/university/MO_4sem/laba1-3/data/'\n",
    "TRAIN_DATA_PATH = os.path.join(DATA_PATH, 'notMNIST_large/')\n",
    "TEST_DATA_PATH = os.path.join(DATA_PATH, 'notMNIST_small/')"
   ]
  },
  {
   "cell_type": "code",
   "execution_count": 7,
   "metadata": {},
   "outputs": [
    {
     "name": "stderr",
     "output_type": "stream",
     "text": [
      "G: 100%|██████████| 52912/52912 [00:10<00:00, 5176.79it/s]\n",
      "A: 100%|██████████| 52912/52912 [00:10<00:00, 5026.51it/s]\n",
      "F: 100%|██████████| 52912/52912 [00:10<00:00, 5211.92it/s]\n",
      "I: 100%|██████████| 52912/52912 [00:10<00:00, 5203.02it/s]\n",
      "H: 100%|██████████| 52912/52912 [00:10<00:00, 5187.85it/s]\n",
      "C: 100%|██████████| 52912/52912 [00:10<00:00, 5224.03it/s]\n",
      "J: 100%|██████████| 52911/52911 [00:10<00:00, 5259.68it/s]\n",
      "B: 100%|██████████| 52912/52912 [00:10<00:00, 5149.38it/s]\n",
      "E: 100%|██████████| 52912/52912 [00:10<00:00, 5059.70it/s]\n",
      "D: 100%|██████████| 52912/52912 [00:10<00:00, 5149.16it/s]\n"
     ]
    },
    {
     "name": "stdout",
     "output_type": "stream",
     "text": [
      "error: total=5, percent=9.449759409125443e-06\n"
     ]
    },
    {
     "name": "stderr",
     "output_type": "stream",
     "text": [
      "G: 100%|██████████| 1872/1872 [00:00<00:00, 5186.46it/s]\n",
      "A: 100%|██████████| 1873/1873 [00:00<00:00, 5252.79it/s]\n",
      "F: 100%|██████████| 1873/1873 [00:00<00:00, 5089.63it/s]\n",
      "I: 100%|██████████| 1872/1872 [00:00<00:00, 5224.55it/s]\n",
      "H: 100%|██████████| 1872/1872 [00:00<00:00, 5049.05it/s]\n",
      "C: 100%|██████████| 1873/1873 [00:00<00:00, 5176.27it/s]\n",
      "J: 100%|██████████| 1872/1872 [00:00<00:00, 5253.18it/s]\n",
      "B: 100%|██████████| 1873/1873 [00:00<00:00, 5010.82it/s]\n",
      "E: 100%|██████████| 1873/1873 [00:00<00:00, 4996.67it/s]\n",
      "D: 100%|██████████| 1873/1873 [00:00<00:00, 5243.36it/s]"
     ]
    },
    {
     "name": "stdout",
     "output_type": "stream",
     "text": [
      "error: total=2, percent=0.00010681478316599017\n",
      "(529114, 28, 28) (18724, 28, 28)\n",
      "(529114,) (18724,)\n"
     ]
    },
    {
     "name": "stderr",
     "output_type": "stream",
     "text": [
      "\n"
     ]
    }
   ],
   "source": [
    "work_features_matrix, work_labels = read_data(TRAIN_DATA_PATH)\n",
    "test_features_matrix, test_labels = read_data(TEST_DATA_PATH)\n",
    "\n",
    "print(work_features_matrix.shape, test_features_matrix.shape)\n",
    "print(work_labels.shape, test_labels.shape)"
   ]
  },
  {
   "cell_type": "code",
   "execution_count": 8,
   "metadata": {},
   "outputs": [
    {
     "name": "stdout",
     "output_type": "stream",
     "text": [
      "F    52912\n",
      "E    52912\n",
      "G    52912\n",
      "C    52912\n",
      "H    52912\n",
      "I    52912\n",
      "J    52911\n",
      "D    52911\n",
      "B    52911\n",
      "A    52909\n",
      "dtype: int64\n",
      "E    1873\n",
      "D    1873\n",
      "B    1873\n",
      "C    1873\n",
      "H    1872\n",
      "G    1872\n",
      "I    1872\n",
      "J    1872\n",
      "A    1872\n",
      "F    1872\n",
      "dtype: int64\n"
     ]
    }
   ],
   "source": [
    "print(pd.Series(work_labels).value_counts())\n",
    "print(pd.Series(test_labels).value_counts())"
   ]
  },
  {
   "cell_type": "code",
   "execution_count": 9,
   "metadata": {},
   "outputs": [
    {
     "name": "stdout",
     "output_type": "stream",
     "text": [
      "TRAIN IMAGES SAMPLES\n",
      "D\n"
     ]
    },
    {
     "data": {
      "image/png": "[encoded data removed]",
      "text/plain": [
       "<Figure size 432x288 with 1 Axes>"
      ]
     },
     "metadata": {
      "needs_background": "light"
     },
     "output_type": "display_data"
    },
    {
     "name": "stdout",
     "output_type": "stream",
     "text": [
      "I\n"
     ]
    },
    {
     "data": {
      "image/png": "[encoded data removed]",
      "text/plain": [
       "<Figure size 432x288 with 1 Axes>"
      ]
     },
     "metadata": {
      "needs_background": "light"
     },
     "output_type": "display_data"
    },
    {
     "name": "stdout",
     "output_type": "stream",
     "text": [
      "E\n"
     ]
    },
    {
     "data": {
      "image/png": "[encoded data removed]",
      "text/plain": [
       "<Figure size 432x288 with 1 Axes>"
      ]
     },
     "metadata": {
      "needs_background": "light"
     },
     "output_type": "display_data"
    },
    {
     "name": "stdout",
     "output_type": "stream",
     "text": [
      "J\n"
     ]
    },
    {
     "data": {
      "image/png": "[encoded data removed]",
      "text/plain": [
       "<Figure size 432x288 with 1 Axes>"
      ]
     },
     "metadata": {
      "needs_background": "light"
     },
     "output_type": "display_data"
    },
    {
     "name": "stdout",
     "output_type": "stream",
     "text": [
      "TEST IMAGES SAMPLES\n",
      "B\n"
     ]
    },
    {
     "data": {
      "image/png": "[encoded data removed]",
      "text/plain": [
       "<Figure size 432x288 with 1 Axes>"
      ]
     },
     "metadata": {
      "needs_background": "light"
     },
     "output_type": "display_data"
    },
    {
     "name": "stdout",
     "output_type": "stream",
     "text": [
      "C\n"
     ]
    },
    {
     "data": {
      "image/png": "[encoded data removed]",
      "text/plain": [
       "<Figure size 432x288 with 1 Axes>"
      ]
     },
     "metadata": {
      "needs_background": "light"
     },
     "output_type": "display_data"
    },
    {
     "name": "stdout",
     "output_type": "stream",
     "text": [
      "F\n"
     ]
    },
    {
     "data": {
      "image/png": "[encoded data removed]",
      "text/plain": [
       "<Figure size 432x288 with 1 Axes>"
      ]
     },
     "metadata": {
      "needs_background": "light"
     },
     "output_type": "display_data"
    },
    {
     "name": "stdout",
     "output_type": "stream",
     "text": [
      "H\n"
     ]
    },
    {
     "data": {
      "image/png": "[encoded data removed]",
      "text/plain": [
       "<Figure size 432x288 with 1 Axes>"
      ]
     },
     "metadata": {
      "needs_background": "light"
     },
     "output_type": "display_data"
    }
   ],
   "source": [
    "def plt_few_random_images(features_matrix, labels, count=4):\n",
    "    for _ in range(count):\n",
    "        i = np.random.randint(features_matrix.shape[0])\n",
    "        print(labels[i])\n",
    "        plt.imshow(features_matrix[i])\n",
    "        plt.show()\n",
    "\n",
    "print('TRAIN IMAGES SAMPLES')\n",
    "plt_few_random_images(work_features_matrix, work_labels)\n",
    "print('TEST IMAGES SAMPLES')\n",
    "plt_few_random_images(test_features_matrix, test_labels)"
   ]
  },
  {
   "cell_type": "markdown",
   "metadata": {},
   "source": [
    "### Удаление дубликатов данных"
   ]
  },
  {
   "cell_type": "markdown",
   "metadata": {},
   "source": [
    "#### Фильтрация хешами"
   ]
  },
  {
   "cell_type": "code",
   "execution_count": 10,
   "metadata": {},
   "outputs": [
    {
     "name": "stderr",
     "output_type": "stream",
     "text": [
      "100%|██████████| 529114/529114 [00:05<00:00, 102124.09it/s]\n"
     ]
    },
    {
     "data": {
      "text/plain": [
       "(461946,)"
      ]
     },
     "execution_count": 10,
     "metadata": {},
     "output_type": "execute_result"
    }
   ],
   "source": [
    "filter_query = get_filter_duplicates_query(work_features_matrix)\n",
    "filter_query.shape"
   ]
  },
  {
   "cell_type": "code",
   "execution_count": 11,
   "metadata": {},
   "outputs": [],
   "source": [
    "work_features_matrix = work_features_matrix[filter_query]\n",
    "work_labels = work_labels[filter_query]"
   ]
  },
  {
   "cell_type": "code",
   "execution_count": 12,
   "metadata": {},
   "outputs": [
    {
     "name": "stderr",
     "output_type": "stream",
     "text": [
      "100%|██████████| 461946/461946 [00:04<00:00, 105233.35it/s]\n"
     ]
    },
    {
     "data": {
      "text/plain": [
       "(457363,)"
      ]
     },
     "execution_count": 12,
     "metadata": {},
     "output_type": "execute_result"
    }
   ],
   "source": [
    "filter_query = get_filter_duplicates_query(work_features_matrix, test_features_matrix)\n",
    "filter_query.shape"
   ]
  },
  {
   "cell_type": "code",
   "execution_count": 13,
   "metadata": {},
   "outputs": [],
   "source": [
    "work_features_matrix = work_features_matrix[filter_query]\n",
    "work_labels = work_labels[filter_query]"
   ]
  },
  {
   "cell_type": "markdown",
   "metadata": {},
   "source": [
    "#### Фильтрация расстояниями"
   ]
  },
  {
   "cell_type": "code",
   "execution_count": null,
   "metadata": {},
   "outputs": [],
   "source": []
  },
  {
   "cell_type": "markdown",
   "metadata": {},
   "source": [
    "### Разделение данных"
   ]
  },
  {
   "cell_type": "code",
   "execution_count": 14,
   "metadata": {},
   "outputs": [
    {
     "name": "stdout",
     "output_type": "stream",
     "text": [
      "(425347,) (32016,)\n"
     ]
    }
   ],
   "source": [
    "train_indixes, val_indexes = train_test_split(np.arange(work_features_matrix.shape[0]), \n",
    "                                              test_size=0.07, stratify=work_labels, random_state=42)\n",
    "# train_indixes, val_indexes = train_test_split(np.arange(work_features_matrix.shape[0]), \n",
    "#                                               test_size=0.50, stratify=work_labels, random_state=42)\n",
    "\n",
    "print(train_indixes.shape, val_indexes.shape)"
   ]
  },
  {
   "cell_type": "code",
   "execution_count": 15,
   "metadata": {},
   "outputs": [],
   "source": [
    "train_features_matrix, train_labels = work_features_matrix[train_indixes], work_labels[train_indixes]\n",
    "val_features_matrix, val_labels = work_features_matrix[val_indexes], work_labels[val_indexes]"
   ]
  },
  {
   "cell_type": "markdown",
   "metadata": {},
   "source": [
    "### Обучение простого классификатора (результат 0.9626)"
   ]
  },
  {
   "cell_type": "code",
   "execution_count": 13,
   "metadata": {},
   "outputs": [],
   "source": [
    "def flatten(features_matrix):\n",
    "    flatten_shape = (features_matrix.shape[0], np.prod(features_matrix.shape[1:]))\n",
    "    return features_matrix.reshape(flatten_shape)"
   ]
  },
  {
   "cell_type": "code",
   "execution_count": 14,
   "metadata": {},
   "outputs": [],
   "source": [
    "# work_features = flatten(work_features_matrix)\n",
    "train_features = flatten(train_features_matrix)\n",
    "val_features = flatten(val_features_matrix)\n",
    "test_features = flatten(test_features_matrix)"
   ]
  },
  {
   "cell_type": "code",
   "execution_count": 17,
   "metadata": {},
   "outputs": [
    {
     "data": {
      "text/plain": [
       "SVC(C=15, break_ties=False, cache_size=200, class_weight=None, coef0=0.0,\n",
       "    decision_function_shape='ovr', degree=3, gamma='scale', kernel='rbf',\n",
       "    max_iter=-1, probability=False, random_state=42, shrinking=True, tol=0.001,\n",
       "    verbose=False)"
      ]
     },
     "execution_count": 17,
     "metadata": {},
     "output_type": "execute_result"
    }
   ],
   "source": [
    "# clf = load('svm_0.9626')\n",
    "# pca = load('pca_0.9626')\n",
    "\n",
    "# train_features = pca.transform(train_features/255)\n",
    "# val_features = pca.transform(val_features/255)\n",
    "# test_features = pca.transform(test_features/255)\n",
    "\n",
    "# clf\n",
    "\n",
    "pca = PCA(n_components=50)\n",
    "\n",
    "train_features = pca.fit_transform(train_features/255)\n",
    "val_features = pca.transform(val_features/255)\n",
    "test_features = pca.transform(test_features/255)\n",
    "\n",
    "clf = SVC(C=15, random_state=42, kernel='rbf')  # , max_iter=100\n",
    "clf"
   ]
  },
  {
   "cell_type": "code",
   "execution_count": 125,
   "metadata": {},
   "outputs": [
    {
     "data": {
      "text/plain": [
       "SVC(C=15, break_ties=False, cache_size=200, class_weight=None, coef0=0.0,\n",
       "    decision_function_shape='ovr', degree=3, gamma='scale', kernel='rbf',\n",
       "    max_iter=-1, probability=False, random_state=42, shrinking=True, tol=0.001,\n",
       "    verbose=False)"
      ]
     },
     "execution_count": 125,
     "metadata": {},
     "output_type": "execute_result"
    }
   ],
   "source": [
    "clf.fit(train_features, train_labels)"
   ]
  },
  {
   "cell_type": "code",
   "execution_count": 18,
   "metadata": {},
   "outputs": [
    {
     "data": {
      "text/plain": [
       "0.9662324373253571"
      ]
     },
     "execution_count": 18,
     "metadata": {},
     "output_type": "execute_result"
    }
   ],
   "source": [
    "clf.score(train_features, train_labels)"
   ]
  },
  {
   "cell_type": "code",
   "execution_count": 19,
   "metadata": {},
   "outputs": [
    {
     "data": {
      "text/plain": [
       "0.9072992190028074"
      ]
     },
     "execution_count": 19,
     "metadata": {},
     "output_type": "execute_result"
    }
   ],
   "source": [
    "clf.score(val_features, val_labels)"
   ]
  },
  {
   "cell_type": "markdown",
   "metadata": {},
   "source": [
    "#### контрольное тест"
   ]
  },
  {
   "cell_type": "code",
   "execution_count": 127,
   "metadata": {},
   "outputs": [
    {
     "data": {
      "text/plain": [
       "0.9626148258919034"
      ]
     },
     "execution_count": 127,
     "metadata": {},
     "output_type": "execute_result"
    }
   ],
   "source": [
    "clf.score(test_features, test_labels)"
   ]
  },
  {
   "cell_type": "markdown",
   "metadata": {},
   "source": [
    "если увеличить n_components или train_size можно ещё увеличить качество"
   ]
  },
  {
   "cell_type": "code",
   "execution_count": 129,
   "metadata": {},
   "outputs": [
    {
     "data": {
      "text/plain": [
       "['pca_0.9626']"
      ]
     },
     "execution_count": 129,
     "metadata": {},
     "output_type": "execute_result"
    }
   ],
   "source": [
    "dump(clf, 'svm_0.9626')\n",
    "dump(pca, 'pca_0.9626')\n",
    "\n",
    "# clf = load('svm_0.9626')\n",
    "# pca = load('pca_0.9626')"
   ]
  },
  {
   "cell_type": "markdown",
   "metadata": {},
   "source": [
    "Кривые обучения 50, 100, 1000, 50000"
   ]
  },
  {
   "cell_type": "code",
   "execution_count": 112,
   "metadata": {},
   "outputs": [
    {
     "name": "stderr",
     "output_type": "stream",
     "text": [
      "100%|██████████| 4/4 [03:26<00:00, 51.71s/it]\n"
     ]
    }
   ],
   "source": [
    "def get_learning_curves():\n",
    "    train_values_counts, train_scores, val_scores = [], [], []\n",
    "    for test_size in tqdm([0.99989, 0.99978, 0.9978, 0.8906]):  # 50, 100, 1000, 50000\n",
    "        train_indixes, val_indexes = train_test_split(np.arange(work_features_matrix.shape[0]), \n",
    "                                                  test_size=test_size, stratify=work_labels, random_state=42)\n",
    "        train_features_matrix, train_labels = work_features_matrix[train_indixes], work_labels[train_indixes]\n",
    "        val_features_matrix, val_labels = work_features_matrix[val_indexes], work_labels[val_indexes]\n",
    "        train_features = flatten(train_features_matrix)\n",
    "        val_features = flatten(val_features_matrix)\n",
    "        train_features = pca.fit_transform(train_features/255)\n",
    "        val_features = pca.transform(val_features/255)\n",
    "        clf.fit(train_features, train_labels)\n",
    "        train_values_counts.append(train_features.shape[0])\n",
    "        train_scores.append(clf.score(train_features, train_labels))\n",
    "        val_scores.append(clf.score(val_features[:50000], val_labels[:50000]))\n",
    "    return train_values_counts, train_scores, val_scores\n",
    "\n",
    "train_values_counts, train_scores, val_scores = get_learning_curves()"
   ]
  },
  {
   "cell_type": "code",
   "execution_count": 116,
   "metadata": {},
   "outputs": [
    {
     "name": "stdout",
     "output_type": "stream",
     "text": [
      "[50, 100, 1006, 50035]\n"
     ]
    },
    {
     "data": {
      "image/png": "[encoded data removed]",
      "text/plain": [
       "<Figure size 432x288 with 1 Axes>"
      ]
     },
     "metadata": {
      "needs_background": "light"
     },
     "output_type": "display_data"
    }
   ],
   "source": [
    "print(train_values_counts)\n",
    "plt.scatter(np.log(train_values_counts), train_scores)\n",
    "plt.scatter(np.log(train_values_counts), val_scores)\n",
    "plt.show()"
   ]
  },
  {
   "cell_type": "markdown",
   "metadata": {},
   "source": [
    "### Нейронные сети"
   ]
  },
  {
   "cell_type": "code",
   "execution_count": 16,
   "metadata": {},
   "outputs": [],
   "source": [
    "from sklearn.preprocessing import LabelEncoder\n",
    "\n",
    "le = LabelEncoder()\n",
    "train_labels_encoded = le.fit_transform(train_labels)\n",
    "val_labels_encoded = le.transform(val_labels)\n",
    "work_labels_encoded = le.transform(work_labels)\n",
    "test_labels_encoded = le.transform(test_labels)"
   ]
  },
  {
   "cell_type": "markdown",
   "metadata": {},
   "source": [
    "#### Полносвязанная сеть (результат 0.9682)"
   ]
  },
  {
   "cell_type": "code",
   "execution_count": 16,
   "metadata": {},
   "outputs": [],
   "source": [
    "def get_fc_model(size):\n",
    "    x = input_ = layers.Input((size, size))\n",
    "    x = flatten_input = layers.Flatten()(x)\n",
    "    \n",
    "    x1 = layers.Dense(512, activation='selu')(x)\n",
    "    x1 = layers.Dropout(0.5)(x1)\n",
    "    x2 = layers.Dense(256, activation='selu')(x)\n",
    "    x = layers.concatenate([x1, x2])\n",
    "    \n",
    "    x1 = layers.Dense(256, activation='selu')(x)\n",
    "    x1 = layers.Dropout(0.5)(x1)\n",
    "    x2 = layers.Dense(128, activation='selu')(x)\n",
    "    x = layers.concatenate([x1, x2])\n",
    "    \n",
    "    x1 = layers.Dense(128, activation='selu')(x)\n",
    "    x1 = layers.Dropout(0.4)(x1)\n",
    "    x2 = layers.Dense(64, activation='selu')(x)\n",
    "    x = layers.concatenate([x1, x2])\n",
    "    \n",
    "    x = layers.Dense(10, activation='softmax')(x)\n",
    "    \n",
    "    return models.Model(input_, x)"
   ]
  },
  {
   "cell_type": "code",
   "execution_count": 17,
   "metadata": {},
   "outputs": [
    {
     "name": "stdout",
     "output_type": "stream",
     "text": [
      "WARNING:tensorflow:From /home/ataleckij/.local/lib/python3.6/site-packages/keras/backend/tensorflow_backend.py:3313: add_dispatch_support.<locals>.wrapper (from tensorflow.python.ops.array_ops) is deprecated and will be removed in a future version.\n",
      "Instructions for updating:\n",
      "Use tf.where in 2.0, which has the same broadcast rule as np.where\n",
      "Model: \"model_1\"\n",
      "__________________________________________________________________________________________________\n",
      "Layer (type)                    Output Shape         Param #     Connected to                     \n",
      "==================================================================================================\n",
      "input_1 (InputLayer)            (None, 28, 28)       0                                            \n",
      "__________________________________________________________________________________________________\n",
      "flatten_1 (Flatten)             (None, 784)          0           input_1[0][0]                    \n",
      "__________________________________________________________________________________________________\n",
      "dense_1 (Dense)                 (None, 512)          401920      flatten_1[0][0]                  \n",
      "__________________________________________________________________________________________________\n",
      "dropout_1 (Dropout)             (None, 512)          0           dense_1[0][0]                    \n",
      "__________________________________________________________________________________________________\n",
      "dense_2 (Dense)                 (None, 256)          200960      flatten_1[0][0]                  \n",
      "__________________________________________________________________________________________________\n",
      "concatenate_1 (Concatenate)     (None, 768)          0           dropout_1[0][0]                  \n",
      "                                                                 dense_2[0][0]                    \n",
      "__________________________________________________________________________________________________\n",
      "dense_3 (Dense)                 (None, 256)          196864      concatenate_1[0][0]              \n",
      "__________________________________________________________________________________________________\n",
      "dropout_2 (Dropout)             (None, 256)          0           dense_3[0][0]                    \n",
      "__________________________________________________________________________________________________\n",
      "dense_4 (Dense)                 (None, 128)          98432       concatenate_1[0][0]              \n",
      "__________________________________________________________________________________________________\n",
      "concatenate_2 (Concatenate)     (None, 384)          0           dropout_2[0][0]                  \n",
      "                                                                 dense_4[0][0]                    \n",
      "__________________________________________________________________________________________________\n",
      "dense_5 (Dense)                 (None, 128)          49280       concatenate_2[0][0]              \n",
      "__________________________________________________________________________________________________\n",
      "dropout_3 (Dropout)             (None, 128)          0           dense_5[0][0]                    \n",
      "__________________________________________________________________________________________________\n",
      "dense_6 (Dense)                 (None, 64)           24640       concatenate_2[0][0]              \n",
      "__________________________________________________________________________________________________\n",
      "concatenate_3 (Concatenate)     (None, 192)          0           dropout_3[0][0]                  \n",
      "                                                                 dense_6[0][0]                    \n",
      "__________________________________________________________________________________________________\n",
      "dense_7 (Dense)                 (None, 10)           1930        concatenate_3[0][0]              \n",
      "==================================================================================================\n",
      "Total params: 974,026\n",
      "Trainable params: 974,026\n",
      "Non-trainable params: 0\n",
      "__________________________________________________________________________________________________\n",
      "None\n"
     ]
    }
   ],
   "source": [
    "fc_model = get_fc_model(28)\n",
    "print(fc_model.summary())\n",
    "\n",
    "fc_model.compile(loss='sparse_categorical_crossentropy', metrics=['acc'], optimizer='adam')\n",
    "lr_reducer = callbacks.ReduceLROnPlateau(monitor='val_loss', factor=5e-2, patience=3, \n",
    "                                         min_lr=1e-15, min_delta=0.03, verbose=1)\n",
    "stopper = callbacks.EarlyStopping(monitor='val_loss', min_delta=0.0001, patience=10, \n",
    "                                  verbose=1, restore_best_weights=True)"
   ]
  },
  {
   "cell_type": "code",
   "execution_count": 18,
   "metadata": {},
   "outputs": [
    {
     "name": "stdout",
     "output_type": "stream",
     "text": [
      "WARNING:tensorflow:From /home/ataleckij/.local/lib/python3.6/site-packages/keras/backend/tensorflow_backend.py:422: The name tf.global_variables is deprecated. Please use tf.compat.v1.global_variables instead.\n",
      "\n",
      "Train on 425347 samples, validate on 32016 samples\n",
      "Epoch 1/150\n",
      "425347/425347 [==============================] - 8s 19us/step - loss: 0.6235 - acc: 0.8201 - val_loss: 0.4434 - val_acc: 0.8617\n",
      "Epoch 2/150\n",
      "425347/425347 [==============================] - 7s 17us/step - loss: 0.4335 - acc: 0.8659 - val_loss: 0.3929 - val_acc: 0.8792\n",
      "Epoch 3/150\n",
      "425347/425347 [==============================] - 7s 16us/step - loss: 0.3904 - acc: 0.8783 - val_loss: 0.3716 - val_acc: 0.8837\n",
      "Epoch 4/150\n",
      "425347/425347 [==============================] - 6s 15us/step - loss: 0.3623 - acc: 0.8869 - val_loss: 0.3560 - val_acc: 0.8884\n",
      "Epoch 5/150\n",
      "425347/425347 [==============================] - 6s 15us/step - loss: 0.3420 - acc: 0.8925 - val_loss: 0.3474 - val_acc: 0.8939\n",
      "Epoch 6/150\n",
      "425347/425347 [==============================] - 6s 15us/step - loss: 0.3257 - acc: 0.8973 - val_loss: 0.3320 - val_acc: 0.8965\n",
      "Epoch 7/150\n",
      "425347/425347 [==============================] - 6s 15us/step - loss: 0.3128 - acc: 0.9010 - val_loss: 0.3249 - val_acc: 0.8991\n",
      "Epoch 8/150\n",
      "425347/425347 [==============================] - 6s 15us/step - loss: 0.3019 - acc: 0.9038 - val_loss: 0.3280 - val_acc: 0.8977\n",
      "Epoch 9/150\n",
      "425347/425347 [==============================] - 6s 15us/step - loss: 0.2914 - acc: 0.9068 - val_loss: 0.3182 - val_acc: 0.9022\n",
      "Epoch 10/150\n",
      "425347/425347 [==============================] - 6s 15us/step - loss: 0.2826 - acc: 0.9097 - val_loss: 0.3197 - val_acc: 0.9013\n",
      "\n",
      "Epoch 00010: ReduceLROnPlateau reducing learning rate to 5.0000002374872565e-05.\n",
      "Epoch 11/150\n",
      "425347/425347 [==============================] - 7s 16us/step - loss: 0.2439 - acc: 0.9208 - val_loss: 0.2925 - val_acc: 0.9095\n",
      "Epoch 12/150\n",
      "425347/425347 [==============================] - 7s 16us/step - loss: 0.2350 - acc: 0.9235 - val_loss: 0.2908 - val_acc: 0.9105\n",
      "Epoch 13/150\n",
      "425347/425347 [==============================] - 7s 17us/step - loss: 0.2304 - acc: 0.9247 - val_loss: 0.2906 - val_acc: 0.9107\n",
      "Epoch 14/150\n",
      "425347/425347 [==============================] - 7s 17us/step - loss: 0.2274 - acc: 0.9256 - val_loss: 0.2906 - val_acc: 0.9107\n",
      "\n",
      "Epoch 00014: ReduceLROnPlateau reducing learning rate to 2.5000001187436284e-06.\n",
      "Epoch 15/150\n",
      "425347/425347 [==============================] - 7s 17us/step - loss: 0.2240 - acc: 0.9264 - val_loss: 0.2899 - val_acc: 0.9111\n",
      "Epoch 16/150\n",
      "425347/425347 [==============================] - 7s 17us/step - loss: 0.2233 - acc: 0.9269 - val_loss: 0.2897 - val_acc: 0.9115\n",
      "Epoch 17/150\n",
      "425347/425347 [==============================] - 7s 16us/step - loss: 0.2236 - acc: 0.9263 - val_loss: 0.2895 - val_acc: 0.9111\n",
      "\n",
      "Epoch 00017: ReduceLROnPlateau reducing learning rate to 1.2500000821091816e-07.\n",
      "Epoch 18/150\n",
      "425347/425347 [==============================] - 7s 16us/step - loss: 0.2230 - acc: 0.9268 - val_loss: 0.2895 - val_acc: 0.9112\n",
      "Epoch 19/150\n",
      "425347/425347 [==============================] - 7s 15us/step - loss: 0.2234 - acc: 0.9267 - val_loss: 0.2895 - val_acc: 0.9110\n",
      "Epoch 20/150\n",
      "425347/425347 [==============================] - 7s 17us/step - loss: 0.2230 - acc: 0.9265 - val_loss: 0.2895 - val_acc: 0.9112\n",
      "\n",
      "Epoch 00020: ReduceLROnPlateau reducing learning rate to 6.250000694763003e-09.\n",
      "Epoch 21/150\n",
      "425347/425347 [==============================] - 7s 17us/step - loss: 0.2230 - acc: 0.9267 - val_loss: 0.2895 - val_acc: 0.9112\n",
      "Epoch 22/150\n",
      "425347/425347 [==============================] - 7s 17us/step - loss: 0.2231 - acc: 0.9265 - val_loss: 0.2895 - val_acc: 0.9112\n",
      "Epoch 23/150\n",
      "425347/425347 [==============================] - 7s 17us/step - loss: 0.2232 - acc: 0.9266 - val_loss: 0.2895 - val_acc: 0.9112\n",
      "\n",
      "Epoch 00023: ReduceLROnPlateau reducing learning rate to 3.1250002585636594e-10.\n",
      "Epoch 24/150\n",
      "425347/425347 [==============================] - 7s 17us/step - loss: 0.2230 - acc: 0.9268 - val_loss: 0.2895 - val_acc: 0.9112\n",
      "Epoch 25/150\n",
      "425347/425347 [==============================] - 7s 17us/step - loss: 0.2229 - acc: 0.9267 - val_loss: 0.2895 - val_acc: 0.9112\n",
      "Epoch 26/150\n",
      "425347/425347 [==============================] - 7s 17us/step - loss: 0.2231 - acc: 0.9268 - val_loss: 0.2895 - val_acc: 0.9112\n",
      "\n",
      "Epoch 00026: ReduceLROnPlateau reducing learning rate to 1.5625001292818297e-11.\n",
      "Epoch 27/150\n",
      "425347/425347 [==============================] - 7s 17us/step - loss: 0.2233 - acc: 0.9267 - val_loss: 0.2895 - val_acc: 0.9112\n",
      "Restoring model weights from the end of the best epoch\n",
      "Epoch 00027: early stopping\n"
     ]
    },
    {
     "data": {
      "text/plain": [
       "<keras.callbacks.callbacks.History at 0x7f076dc56c18>"
      ]
     },
     "execution_count": 18,
     "metadata": {},
     "output_type": "execute_result"
    }
   ],
   "source": [
    "fc_model.fit(train_features_matrix/255, train_labels_encoded,\n",
    "             batch_size=256, epochs=150,\n",
    "             validation_data=(val_features_matrix/255, val_labels_encoded),\n",
    "             callbacks=[lr_reducer, stopper])"
   ]
  },
  {
   "cell_type": "code",
   "execution_count": 19,
   "metadata": {},
   "outputs": [
    {
     "name": "stdout",
     "output_type": "stream",
     "text": [
      "18724/18724 [==============================] - 1s 34us/step\n"
     ]
    },
    {
     "data": {
      "text/plain": [
       "[0.10926197761747547, 0.9668874144554138]"
      ]
     },
     "execution_count": 19,
     "metadata": {},
     "output_type": "execute_result"
    }
   ],
   "source": [
    "fc_model.evaluate(test_features_matrix/255, test_labels_encoded)"
   ]
  },
  {
   "cell_type": "code",
   "execution_count": 20,
   "metadata": {},
   "outputs": [
    {
     "name": "stdout",
     "output_type": "stream",
     "text": [
      "Epoch 1/150\n",
      "457363/457363 [==============================] - 11s 25us/step - loss: 0.6153 - acc: 0.8217\n",
      "Epoch 2/150\n",
      "457363/457363 [==============================] - 11s 23us/step - loss: 0.4298 - acc: 0.8670\n",
      "Epoch 3/150\n",
      "457363/457363 [==============================] - 12s 27us/step - loss: 0.3864 - acc: 0.8798\n",
      "Epoch 4/150\n",
      "457363/457363 [==============================] - 9s 19us/step - loss: 0.3588 - acc: 0.8874\n",
      "Epoch 5/150\n",
      "457363/457363 [==============================] - 8s 17us/step - loss: 0.3392 - acc: 0.8932\n",
      "Epoch 6/150\n",
      "457363/457363 [==============================] - 7s 16us/step - loss: 0.3242 - acc: 0.8975\n",
      "Epoch 7/150\n",
      "457363/457363 [==============================] - 7s 16us/step - loss: 0.3106 - acc: 0.9012\n",
      "Epoch 8/150\n",
      "457363/457363 [==============================] - 8s 17us/step - loss: 0.2996 - acc: 0.9049\n",
      "Epoch 9/150\n",
      "457363/457363 [==============================] - 7s 16us/step - loss: 0.2894 - acc: 0.9076\n",
      "Epoch 10/150\n",
      "457363/457363 [==============================] - 7s 16us/step - loss: 0.2815 - acc: 0.9097\n",
      "Epoch 11/150\n",
      "457363/457363 [==============================] - 7s 16us/step - loss: 0.2733 - acc: 0.9126\n",
      "\n",
      "Epoch 00011: ReduceLROnPlateau reducing learning rate to 5.0000002374872565e-05.\n",
      "Epoch 12/150\n",
      "457363/457363 [==============================] - 7s 16us/step - loss: 0.2368 - acc: 0.9226\n",
      "Epoch 13/150\n",
      "457363/457363 [==============================] - 7s 15us/step - loss: 0.2280 - acc: 0.9252\n",
      "Epoch 14/150\n",
      "457363/457363 [==============================] - 7s 15us/step - loss: 0.2236 - acc: 0.9266\n",
      "Epoch 15/150\n",
      "457363/457363 [==============================] - 7s 15us/step - loss: 0.2210 - acc: 0.9275\n",
      "\n",
      "Epoch 00015: ReduceLROnPlateau reducing learning rate to 2.5000001187436284e-06.\n",
      "Epoch 16/150\n",
      "457363/457363 [==============================] - 7s 15us/step - loss: 0.2177 - acc: 0.9283\n",
      "Epoch 17/150\n",
      "457363/457363 [==============================] - 7s 15us/step - loss: 0.2170 - acc: 0.9284\n",
      "Epoch 18/150\n",
      "457363/457363 [==============================] - 7s 16us/step - loss: 0.2169 - acc: 0.9284\n",
      "\n",
      "Epoch 00018: ReduceLROnPlateau reducing learning rate to 1.2500000821091816e-07.\n",
      "Epoch 19/150\n",
      "457363/457363 [==============================] - 7s 15us/step - loss: 0.2166 - acc: 0.9284\n",
      "Epoch 20/150\n",
      "457363/457363 [==============================] - 7s 16us/step - loss: 0.2168 - acc: 0.9287\n",
      "Epoch 21/150\n",
      "457363/457363 [==============================] - 8s 17us/step - loss: 0.2170 - acc: 0.9285\n",
      "\n",
      "Epoch 00021: ReduceLROnPlateau reducing learning rate to 6.250000694763003e-09.\n",
      "Epoch 22/150\n",
      "457363/457363 [==============================] - 8s 17us/step - loss: 0.2168 - acc: 0.9285\n",
      "Epoch 23/150\n",
      "457363/457363 [==============================] - 8s 17us/step - loss: 0.2169 - acc: 0.9284\n",
      "Epoch 24/150\n",
      "457363/457363 [==============================] - 7s 16us/step - loss: 0.2167 - acc: 0.9284\n",
      "\n",
      "Epoch 00024: ReduceLROnPlateau reducing learning rate to 3.1250002585636594e-10.\n",
      "Epoch 25/150\n",
      "457363/457363 [==============================] - 7s 15us/step - loss: 0.2170 - acc: 0.9283\n",
      "Epoch 26/150\n",
      "457363/457363 [==============================] - 7s 16us/step - loss: 0.2169 - acc: 0.9284\n",
      "Epoch 27/150\n",
      "457363/457363 [==============================] - 7s 15us/step - loss: 0.2169 - acc: 0.9285\n",
      "\n",
      "Epoch 00027: ReduceLROnPlateau reducing learning rate to 1.5625001292818297e-11.\n",
      "Epoch 28/150\n",
      "457363/457363 [==============================] - 7s 15us/step - loss: 0.2170 - acc: 0.9284\n",
      "Epoch 29/150\n",
      "457363/457363 [==============================] - 7s 15us/step - loss: 0.2167 - acc: 0.9284\n",
      "Restoring model weights from the end of the best epoch\n",
      "Epoch 00029: early stopping\n"
     ]
    },
    {
     "data": {
      "text/plain": [
       "<keras.callbacks.callbacks.History at 0x7f0686b7b0b8>"
      ]
     },
     "execution_count": 20,
     "metadata": {},
     "output_type": "execute_result"
    }
   ],
   "source": [
    "fc_model_full = get_fc_model(28)\n",
    "\n",
    "fc_model_full.compile(loss='sparse_categorical_crossentropy', metrics=['acc'], optimizer='adam')\n",
    "lr_reducer = callbacks.ReduceLROnPlateau(monitor='loss', factor=5e-2, patience=3, \n",
    "                                         min_lr=1e-15, min_delta=0.03, verbose=1)\n",
    "stopper = callbacks.EarlyStopping(monitor='loss', min_delta=0.0001, patience=10, \n",
    "                                  verbose=1, restore_best_weights=True)\n",
    "\n",
    "fc_model_full.fit(work_features_matrix/255, work_labels_encoded,\n",
    "                  batch_size=256, epochs=150,\n",
    "                  callbacks=[lr_reducer, stopper])"
   ]
  },
  {
   "cell_type": "code",
   "execution_count": 21,
   "metadata": {},
   "outputs": [
    {
     "name": "stdout",
     "output_type": "stream",
     "text": [
      "18724/18724 [==============================] - 1s 36us/step\n"
     ]
    },
    {
     "data": {
      "text/plain": [
       "[0.11043714238765694, 0.9682226181030273]"
      ]
     },
     "execution_count": 21,
     "metadata": {},
     "output_type": "execute_result"
    }
   ],
   "source": [
    "fc_model_full.evaluate(test_features_matrix/255, test_labels_encoded)"
   ]
  },
  {
   "cell_type": "markdown",
   "metadata": {},
   "source": [
    "#### Сверточная сеть (результаты: 0.9706, 0.9604, 0.9733)"
   ]
  },
  {
   "cell_type": "code",
   "execution_count": 20,
   "metadata": {},
   "outputs": [],
   "source": [
    "def get_conv_model1(size):\n",
    "    x = input_ = layers.Input((size, size, 1))\n",
    "#     x = layers.Reshape((size, size, 1))(x)\n",
    "    \n",
    "    x = layers.Conv2D(32, (5, 5), activation='relu')(x)\n",
    "    x = layers.Conv2D(64, (5, 5), activation='relu')(x)\n",
    "    x = layers.Flatten()(x)\n",
    "    x = layers.Dropout(0.35)(x)\n",
    "    x = layers.Dense(10, activation='softmax')(x)\n",
    "    \n",
    "    return models.Model(input_, x)"
   ]
  },
  {
   "cell_type": "code",
   "execution_count": 21,
   "metadata": {},
   "outputs": [
    {
     "name": "stdout",
     "output_type": "stream",
     "text": [
      "Model: \"model_2\"\n",
      "_________________________________________________________________\n",
      "Layer (type)                 Output Shape              Param #   \n",
      "=================================================================\n",
      "input_2 (InputLayer)         (None, 28, 28, 1)         0         \n",
      "_________________________________________________________________\n",
      "conv2d_3 (Conv2D)            (None, 24, 24, 32)        832       \n",
      "_________________________________________________________________\n",
      "conv2d_4 (Conv2D)            (None, 20, 20, 64)        51264     \n",
      "_________________________________________________________________\n",
      "flatten_2 (Flatten)          (None, 25600)             0         \n",
      "_________________________________________________________________\n",
      "dropout_1 (Dropout)          (None, 25600)             0         \n",
      "_________________________________________________________________\n",
      "dense_2 (Dense)              (None, 10)                256010    \n",
      "=================================================================\n",
      "Total params: 308,106\n",
      "Trainable params: 308,106\n",
      "Non-trainable params: 0\n",
      "_________________________________________________________________\n",
      "None\n"
     ]
    }
   ],
   "source": [
    "conv1_model = get_conv_model1(28)\n",
    "print(conv1_model.summary())\n",
    "\n",
    "conv1_model.compile(loss='sparse_categorical_crossentropy', metrics=['accuracy'], optimizer='adam')\n",
    "lr_reducer = callbacks.ReduceLROnPlateau(monitor='val_loss', factor=5e-2, patience=3, \n",
    "                                         min_lr=1e-15, min_delta=0.03, verbose=1)\n",
    "stopper = callbacks.EarlyStopping(monitor='val_loss', min_delta=0.0001, patience=10, \n",
    "                                  verbose=1, restore_best_weights=True)"
   ]
  },
  {
   "cell_type": "code",
   "execution_count": 22,
   "metadata": {},
   "outputs": [
    {
     "name": "stdout",
     "output_type": "stream",
     "text": [
      "Train on 425347 samples, validate on 32016 samples\n",
      "Epoch 1/150\n",
      "425347/425347 [==============================] - 23s 54us/step - loss: 0.4428 - accuracy: 0.8754 - val_loss: 0.3708 - val_accuracy: 0.8956\n",
      "Epoch 2/150\n",
      "425347/425347 [==============================] - 22s 52us/step - loss: 0.3478 - accuracy: 0.9015 - val_loss: 0.3306 - val_accuracy: 0.9061\n",
      "Epoch 3/150\n",
      "425347/425347 [==============================] - 22s 52us/step - loss: 0.3173 - accuracy: 0.9090 - val_loss: 0.3226 - val_accuracy: 0.9089\n",
      "Epoch 4/150\n",
      "425347/425347 [==============================] - 22s 52us/step - loss: 0.2966 - accuracy: 0.9146 - val_loss: 0.3215 - val_accuracy: 0.9099\n",
      "Epoch 5/150\n",
      "425347/425347 [==============================] - 22s 51us/step - loss: 0.2806 - accuracy: 0.9185 - val_loss: 0.3135 - val_accuracy: 0.9121\n",
      "\n",
      "Epoch 00005: ReduceLROnPlateau reducing learning rate to 5.0000002374872565e-05.\n",
      "Epoch 6/150\n",
      "425347/425347 [==============================] - 22s 51us/step - loss: 0.2382 - accuracy: 0.9304 - val_loss: 0.3020 - val_accuracy: 0.9170\n",
      "Epoch 7/150\n",
      "425347/425347 [==============================] - 22s 51us/step - loss: 0.2320 - accuracy: 0.9319 - val_loss: 0.3012 - val_accuracy: 0.9180\n",
      "Epoch 8/150\n",
      "425347/425347 [==============================] - 22s 52us/step - loss: 0.2286 - accuracy: 0.9333 - val_loss: 0.3002 - val_accuracy: 0.9176\n",
      "Epoch 9/150\n",
      "425347/425347 [==============================] - 22s 52us/step - loss: 0.2261 - accuracy: 0.9341 - val_loss: 0.2997 - val_accuracy: 0.9186\n",
      "Epoch 10/150\n",
      "425347/425347 [==============================] - 22s 52us/step - loss: 0.2248 - accuracy: 0.9344 - val_loss: 0.3005 - val_accuracy: 0.9183\n",
      "Epoch 11/150\n",
      "425347/425347 [==============================] - 22s 51us/step - loss: 0.2219 - accuracy: 0.9351 - val_loss: 0.3001 - val_accuracy: 0.9189\n",
      "\n",
      "Epoch 00011: ReduceLROnPlateau reducing learning rate to 2.5000001187436284e-06.\n",
      "Epoch 12/150\n",
      "425347/425347 [==============================] - 22s 52us/step - loss: 0.2194 - accuracy: 0.9359 - val_loss: 0.2998 - val_accuracy: 0.9186\n",
      "Epoch 13/150\n",
      "425347/425347 [==============================] - 22s 52us/step - loss: 0.2194 - accuracy: 0.9358 - val_loss: 0.2998 - val_accuracy: 0.9184\n",
      "Epoch 14/150\n",
      "425347/425347 [==============================] - 22s 51us/step - loss: 0.2186 - accuracy: 0.9358 - val_loss: 0.2998 - val_accuracy: 0.9186\n",
      "\n",
      "Epoch 00014: ReduceLROnPlateau reducing learning rate to 1.2500000821091816e-07.\n",
      "Epoch 15/150\n",
      "425347/425347 [==============================] - 22s 52us/step - loss: 0.2186 - accuracy: 0.9358 - val_loss: 0.2998 - val_accuracy: 0.9186\n",
      "Epoch 16/150\n",
      "425347/425347 [==============================] - 22s 51us/step - loss: 0.2191 - accuracy: 0.9358 - val_loss: 0.2998 - val_accuracy: 0.9186\n",
      "Epoch 17/150\n",
      "425347/425347 [==============================] - 22s 52us/step - loss: 0.2187 - accuracy: 0.9357 - val_loss: 0.2998 - val_accuracy: 0.9186\n",
      "\n",
      "Epoch 00017: ReduceLROnPlateau reducing learning rate to 6.250000694763003e-09.\n",
      "Epoch 18/150\n",
      "425347/425347 [==============================] - 22s 52us/step - loss: 0.2187 - accuracy: 0.9360 - val_loss: 0.2998 - val_accuracy: 0.9186\n",
      "Epoch 19/150\n",
      "425347/425347 [==============================] - 22s 52us/step - loss: 0.2185 - accuracy: 0.9357 - val_loss: 0.2998 - val_accuracy: 0.9186\n",
      "Restoring model weights from the end of the best epoch\n",
      "Epoch 00019: early stopping\n"
     ]
    },
    {
     "data": {
      "text/plain": [
       "<keras.callbacks.callbacks.History at 0x7fc6f0449c18>"
      ]
     },
     "execution_count": 22,
     "metadata": {},
     "output_type": "execute_result"
    }
   ],
   "source": [
    "conv1_model.fit(train_features_matrix[:, :, :, np.newaxis]/255, train_labels_encoded,\n",
    "             batch_size=256, epochs=150,\n",
    "             validation_data=(val_features_matrix[:, :, :, np.newaxis]/255, val_labels_encoded),\n",
    "             callbacks=[lr_reducer, stopper])"
   ]
  },
  {
   "cell_type": "code",
   "execution_count": 24,
   "metadata": {},
   "outputs": [
    {
     "name": "stdout",
     "output_type": "stream",
     "text": [
      "18724/18724 [==============================] - 1s 50us/step\n"
     ]
    },
    {
     "data": {
      "text/plain": [
       "[0.10483772219814276, 0.9705725312232971]"
      ]
     },
     "execution_count": 24,
     "metadata": {},
     "output_type": "execute_result"
    }
   ],
   "source": [
    "conv1_model.evaluate(test_features_matrix[:,:,:,np.newaxis]/255, test_labels_encoded)"
   ]
  },
  {
   "cell_type": "code",
   "execution_count": 30,
   "metadata": {},
   "outputs": [],
   "source": [
    "def get_conv_model2(size):\n",
    "    x = input_ = layers.Input((size, size, 1))\n",
    "#     x = layers.Reshape((size, size, 1))(x)\n",
    "    \n",
    "    x = layers.Conv2D(128, (5, 5), activation='relu')(x)\n",
    "    x = layers.MaxPool2D((3, 3))(x)\n",
    "    x = layers.Flatten()(x)\n",
    "    x = layers.Dropout(0.35)(x)\n",
    "    x = layers.Dense(10, activation='softmax')(x)\n",
    "    \n",
    "    return models.Model(input_, x)"
   ]
  },
  {
   "cell_type": "code",
   "execution_count": 31,
   "metadata": {},
   "outputs": [
    {
     "name": "stdout",
     "output_type": "stream",
     "text": [
      "Model: \"model_4\"\n",
      "_________________________________________________________________\n",
      "Layer (type)                 Output Shape              Param #   \n",
      "=================================================================\n",
      "input_5 (InputLayer)         (None, 28, 28, 1)         0         \n",
      "_________________________________________________________________\n",
      "conv2d_7 (Conv2D)            (None, 24, 24, 128)       3328      \n",
      "_________________________________________________________________\n",
      "max_pooling2d_2 (MaxPooling2 (None, 8, 8, 128)         0         \n",
      "_________________________________________________________________\n",
      "flatten_4 (Flatten)          (None, 8192)              0         \n",
      "_________________________________________________________________\n",
      "dropout_3 (Dropout)          (None, 8192)              0         \n",
      "_________________________________________________________________\n",
      "dense_4 (Dense)              (None, 10)                81930     \n",
      "=================================================================\n",
      "Total params: 85,258\n",
      "Trainable params: 85,258\n",
      "Non-trainable params: 0\n",
      "_________________________________________________________________\n",
      "None\n"
     ]
    }
   ],
   "source": [
    "conv2_model = get_conv_model2(28)\n",
    "print(conv2_model.summary())\n",
    "\n",
    "conv2_model.compile(loss='sparse_categorical_crossentropy', metrics=['accuracy'], optimizer='adam')\n",
    "lr_reducer = callbacks.ReduceLROnPlateau(monitor='val_loss', factor=5e-2, patience=3, \n",
    "                                         min_lr=1e-15, min_delta=0.03, verbose=1)\n",
    "stopper = callbacks.EarlyStopping(monitor='val_loss', min_delta=0.0001, patience=10, \n",
    "                                  verbose=1, restore_best_weights=True)"
   ]
  },
  {
   "cell_type": "code",
   "execution_count": 33,
   "metadata": {},
   "outputs": [
    {
     "name": "stdout",
     "output_type": "stream",
     "text": [
      "Train on 425347 samples, validate on 32016 samples\n",
      "Epoch 1/150\n",
      "425347/425347 [==============================] - 16s 38us/step - loss: 0.5185 - accuracy: 0.8587 - val_loss: 0.4385 - val_accuracy: 0.8808\n",
      "Epoch 2/150\n",
      "425347/425347 [==============================] - 15s 36us/step - loss: 0.4370 - accuracy: 0.8808 - val_loss: 0.4068 - val_accuracy: 0.8891\n",
      "Epoch 3/150\n",
      "425347/425347 [==============================] - 15s 36us/step - loss: 0.4176 - accuracy: 0.8850 - val_loss: 0.3945 - val_accuracy: 0.8924\n",
      "Epoch 4/150\n",
      "425347/425347 [==============================] - 15s 36us/step - loss: 0.4044 - accuracy: 0.8890 - val_loss: 0.3865 - val_accuracy: 0.8934\n",
      "Epoch 5/150\n",
      "425347/425347 [==============================] - 15s 36us/step - loss: 0.3951 - accuracy: 0.8913 - val_loss: 0.3784 - val_accuracy: 0.8962\n",
      "\n",
      "Epoch 00005: ReduceLROnPlateau reducing learning rate to 5.0000002374872565e-05.\n",
      "Epoch 6/150\n",
      "425347/425347 [==============================] - 15s 36us/step - loss: 0.3761 - accuracy: 0.8961 - val_loss: 0.3701 - val_accuracy: 0.8983\n",
      "Epoch 7/150\n",
      "425347/425347 [==============================] - 15s 35us/step - loss: 0.3735 - accuracy: 0.8967 - val_loss: 0.3687 - val_accuracy: 0.8990\n",
      "Epoch 8/150\n",
      "425347/425347 [==============================] - 15s 35us/step - loss: 0.3717 - accuracy: 0.8978 - val_loss: 0.3682 - val_accuracy: 0.8988\n",
      "Epoch 9/150\n",
      "425347/425347 [==============================] - 15s 35us/step - loss: 0.3708 - accuracy: 0.8975 - val_loss: 0.3674 - val_accuracy: 0.8993\n",
      "\n",
      "Epoch 00009: ReduceLROnPlateau reducing learning rate to 2.5000001187436284e-06.\n",
      "Epoch 10/150\n",
      "425347/425347 [==============================] - 15s 35us/step - loss: 0.3692 - accuracy: 0.8980 - val_loss: 0.3669 - val_accuracy: 0.8989\n",
      "Epoch 11/150\n",
      "425347/425347 [==============================] - 15s 35us/step - loss: 0.3693 - accuracy: 0.8979 - val_loss: 0.3668 - val_accuracy: 0.8989\n",
      "Epoch 12/150\n",
      "425347/425347 [==============================] - 15s 35us/step - loss: 0.3692 - accuracy: 0.8979 - val_loss: 0.3667 - val_accuracy: 0.8991\n",
      "\n",
      "Epoch 00012: ReduceLROnPlateau reducing learning rate to 1.2500000821091816e-07.\n",
      "Epoch 13/150\n",
      "425347/425347 [==============================] - 15s 35us/step - loss: 0.3687 - accuracy: 0.8982 - val_loss: 0.3667 - val_accuracy: 0.8991\n",
      "Epoch 14/150\n",
      "425347/425347 [==============================] - 15s 35us/step - loss: 0.3696 - accuracy: 0.8980 - val_loss: 0.3667 - val_accuracy: 0.8991\n",
      "Epoch 15/150\n",
      "425347/425347 [==============================] - 15s 35us/step - loss: 0.3698 - accuracy: 0.8980 - val_loss: 0.3667 - val_accuracy: 0.8991\n",
      "\n",
      "Epoch 00015: ReduceLROnPlateau reducing learning rate to 6.250000694763003e-09.\n",
      "Epoch 16/150\n",
      "425347/425347 [==============================] - 15s 35us/step - loss: 0.3690 - accuracy: 0.8979 - val_loss: 0.3667 - val_accuracy: 0.8991\n",
      "Epoch 17/150\n",
      "425347/425347 [==============================] - 15s 35us/step - loss: 0.3696 - accuracy: 0.8979 - val_loss: 0.3667 - val_accuracy: 0.8991\n",
      "Epoch 18/150\n",
      "425347/425347 [==============================] - 15s 35us/step - loss: 0.3694 - accuracy: 0.8977 - val_loss: 0.3667 - val_accuracy: 0.8991\n",
      "\n",
      "Epoch 00018: ReduceLROnPlateau reducing learning rate to 3.1250002585636594e-10.\n",
      "Epoch 19/150\n",
      "425347/425347 [==============================] - 15s 35us/step - loss: 0.3694 - accuracy: 0.8978 - val_loss: 0.3667 - val_accuracy: 0.8991\n",
      "Epoch 20/150\n",
      "425347/425347 [==============================] - 15s 35us/step - loss: 0.3695 - accuracy: 0.8981 - val_loss: 0.3667 - val_accuracy: 0.8991\n",
      "Epoch 21/150\n",
      "425347/425347 [==============================] - 15s 35us/step - loss: 0.3692 - accuracy: 0.8984 - val_loss: 0.3667 - val_accuracy: 0.8991\n",
      "\n",
      "Epoch 00021: ReduceLROnPlateau reducing learning rate to 1.5625001292818297e-11.\n",
      "Epoch 22/150\n",
      "425347/425347 [==============================] - 15s 35us/step - loss: 0.3690 - accuracy: 0.8980 - val_loss: 0.3667 - val_accuracy: 0.8991\n",
      "Restoring model weights from the end of the best epoch\n",
      "Epoch 00022: early stopping\n"
     ]
    },
    {
     "data": {
      "text/plain": [
       "<keras.callbacks.callbacks.History at 0x7fc6f011b9b0>"
      ]
     },
     "execution_count": 33,
     "metadata": {},
     "output_type": "execute_result"
    }
   ],
   "source": [
    "conv2_model.fit(train_features_matrix[:, :, :, np.newaxis]/255, train_labels_encoded,\n",
    "             batch_size=256, epochs=150,\n",
    "             validation_data=(val_features_matrix[:, :, :, np.newaxis]/255, val_labels_encoded),\n",
    "             callbacks=[lr_reducer, stopper])"
   ]
  },
  {
   "cell_type": "code",
   "execution_count": 35,
   "metadata": {},
   "outputs": [
    {
     "name": "stdout",
     "output_type": "stream",
     "text": [
      "18724/18724 [==============================] - 1s 36us/step\n"
     ]
    },
    {
     "data": {
      "text/plain": [
       "[0.1540607997454835, 0.9604251384735107]"
      ]
     },
     "execution_count": 35,
     "metadata": {},
     "output_type": "execute_result"
    }
   ],
   "source": [
    "conv2_model.evaluate(test_features_matrix[:,:,:,np.newaxis]/255, test_labels_encoded)"
   ]
  },
  {
   "cell_type": "code",
   "execution_count": 74,
   "metadata": {},
   "outputs": [],
   "source": [
    "def get_conv_model3(size):\n",
    "    x = input_ = layers.Input((size, size, 1))\n",
    "#     x = layers.Reshape((size, size, 1))(x)\n",
    "    \n",
    "    x = layers.Conv2D(32, (3, 3), activation='tanh')(x)\n",
    "    x = layers.MaxPooling2D((2, 2), strides=2, padding='same')(x)\n",
    "    x = layers.Conv2D(64, (3, 3), activation='tanh')(x)\n",
    "    x = layers.Conv2D(64, (3, 3), activation='tanh')(x)\n",
    "    x = layers.MaxPooling2D((2, 2), strides=2, padding='same')(x)\n",
    "    x = layers.Conv2D(128, (3, 3), activation='tanh')(x)\n",
    "    x = layers.Conv2D(128, (3, 3), activation='tanh')(x)\n",
    "    x = layers.MaxPooling2D((2, 2), strides=2, padding='same')(x)\n",
    "    x = layers.Flatten()(x)\n",
    "    x = layers.Dropout(0.4)(x)\n",
    "    x = layers.Dense(512, activation='tanh')(x)\n",
    "    x = layers.Dropout(0.3)(x)\n",
    "    x = layers.Dense(10, activation='softmax')(x)\n",
    "    \n",
    "    return models.Model(input_, x)"
   ]
  },
  {
   "cell_type": "code",
   "execution_count": 75,
   "metadata": {},
   "outputs": [
    {
     "name": "stdout",
     "output_type": "stream",
     "text": [
      "Model: \"model_13\"\n",
      "_________________________________________________________________\n",
      "Layer (type)                 Output Shape              Param #   \n",
      "=================================================================\n",
      "input_23 (InputLayer)        (None, 28, 28, 1)         0         \n",
      "_________________________________________________________________\n",
      "conv2d_64 (Conv2D)           (None, 26, 26, 32)        320       \n",
      "_________________________________________________________________\n",
      "max_pooling2d_3 (MaxPooling2 (None, 13, 13, 32)        0         \n",
      "_________________________________________________________________\n",
      "conv2d_65 (Conv2D)           (None, 11, 11, 64)        18496     \n",
      "_________________________________________________________________\n",
      "conv2d_66 (Conv2D)           (None, 9, 9, 64)          36928     \n",
      "_________________________________________________________________\n",
      "max_pooling2d_4 (MaxPooling2 (None, 5, 5, 64)          0         \n",
      "_________________________________________________________________\n",
      "conv2d_67 (Conv2D)           (None, 3, 3, 128)         73856     \n",
      "_________________________________________________________________\n",
      "conv2d_68 (Conv2D)           (None, 1, 1, 128)         147584    \n",
      "_________________________________________________________________\n",
      "max_pooling2d_5 (MaxPooling2 (None, 1, 1, 128)         0         \n",
      "_________________________________________________________________\n",
      "flatten_14 (Flatten)         (None, 128)               0         \n",
      "_________________________________________________________________\n",
      "dropout_22 (Dropout)         (None, 128)               0         \n",
      "_________________________________________________________________\n",
      "dense_22 (Dense)             (None, 512)               66048     \n",
      "_________________________________________________________________\n",
      "dropout_23 (Dropout)         (None, 512)               0         \n",
      "_________________________________________________________________\n",
      "dense_23 (Dense)             (None, 10)                5130      \n",
      "=================================================================\n",
      "Total params: 348,362\n",
      "Trainable params: 348,362\n",
      "Non-trainable params: 0\n",
      "_________________________________________________________________\n",
      "None\n"
     ]
    }
   ],
   "source": [
    "conv3_model = get_conv_model3(28)\n",
    "print(conv3_model.summary())\n",
    "\n",
    "conv3_model.compile(loss='sparse_categorical_crossentropy', metrics=['accuracy'], optimizer='adam')\n",
    "lr_reducer = callbacks.ReduceLROnPlateau(monitor='val_loss', factor=5e-2, patience=3, \n",
    "                                         min_lr=1e-15, min_delta=0.03, verbose=1)\n",
    "stopper = callbacks.EarlyStopping(monitor='val_loss', min_delta=0.0001, patience=10, \n",
    "                                  verbose=1, restore_best_weights=True)"
   ]
  },
  {
   "cell_type": "code",
   "execution_count": 76,
   "metadata": {},
   "outputs": [
    {
     "name": "stdout",
     "output_type": "stream",
     "text": [
      "Train on 425347 samples, validate on 32016 samples\n",
      "Epoch 1/150\n",
      "425347/425347 [==============================] - 15s 36us/step - loss: 0.4883 - accuracy: 0.8577 - val_loss: 0.3520 - val_accuracy: 0.8939\n",
      "Epoch 2/150\n",
      "425347/425347 [==============================] - 15s 36us/step - loss: 0.3624 - accuracy: 0.8908 - val_loss: 0.3263 - val_accuracy: 0.9013\n",
      "Epoch 3/150\n",
      "425347/425347 [==============================] - 15s 36us/step - loss: 0.3330 - accuracy: 0.8991 - val_loss: 0.3099 - val_accuracy: 0.9049\n",
      "Epoch 4/150\n",
      "425347/425347 [==============================] - 15s 36us/step - loss: 0.3169 - accuracy: 0.9032 - val_loss: 0.2960 - val_accuracy: 0.9089\n",
      "Epoch 5/150\n",
      "425347/425347 [==============================] - 16s 36us/step - loss: 0.3055 - accuracy: 0.9065 - val_loss: 0.2900 - val_accuracy: 0.9120\n",
      "Epoch 6/150\n",
      "425347/425347 [==============================] - 16s 37us/step - loss: 0.2970 - accuracy: 0.9092 - val_loss: 0.2985 - val_accuracy: 0.9066\n",
      "\n",
      "Epoch 00006: ReduceLROnPlateau reducing learning rate to 5.0000002374872565e-05.\n",
      "Epoch 7/150\n",
      "425347/425347 [==============================] - 16s 37us/step - loss: 0.2638 - accuracy: 0.9182 - val_loss: 0.2663 - val_accuracy: 0.9179\n",
      "Epoch 8/150\n",
      "425347/425347 [==============================] - 16s 37us/step - loss: 0.2516 - accuracy: 0.9219 - val_loss: 0.2636 - val_accuracy: 0.9195\n",
      "Epoch 9/150\n",
      "425347/425347 [==============================] - 16s 36us/step - loss: 0.2458 - accuracy: 0.9234 - val_loss: 0.2617 - val_accuracy: 0.9200\n",
      "Epoch 10/150\n",
      "425347/425347 [==============================] - 15s 36us/step - loss: 0.2417 - accuracy: 0.9245 - val_loss: 0.2605 - val_accuracy: 0.9201\n",
      "\n",
      "Epoch 00010: ReduceLROnPlateau reducing learning rate to 2.5000001187436284e-06.\n",
      "Epoch 11/150\n",
      "425347/425347 [==============================] - 16s 37us/step - loss: 0.2372 - accuracy: 0.9258 - val_loss: 0.2602 - val_accuracy: 0.9204\n",
      "Epoch 12/150\n",
      "425347/425347 [==============================] - 16s 37us/step - loss: 0.2367 - accuracy: 0.9259 - val_loss: 0.2602 - val_accuracy: 0.9202\n",
      "Epoch 13/150\n",
      "425347/425347 [==============================] - 16s 37us/step - loss: 0.2362 - accuracy: 0.9262 - val_loss: 0.2602 - val_accuracy: 0.9203\n",
      "\n",
      "Epoch 00013: ReduceLROnPlateau reducing learning rate to 1.2500000821091816e-07.\n",
      "Epoch 14/150\n",
      "425347/425347 [==============================] - 16s 37us/step - loss: 0.2354 - accuracy: 0.9263 - val_loss: 0.2602 - val_accuracy: 0.9203\n",
      "Epoch 15/150\n",
      "425347/425347 [==============================] - 16s 37us/step - loss: 0.2365 - accuracy: 0.9260 - val_loss: 0.2602 - val_accuracy: 0.9203\n",
      "Epoch 16/150\n",
      "425347/425347 [==============================] - 16s 37us/step - loss: 0.2358 - accuracy: 0.9262 - val_loss: 0.2602 - val_accuracy: 0.9202\n",
      "\n",
      "Epoch 00016: ReduceLROnPlateau reducing learning rate to 6.250000694763003e-09.\n",
      "Epoch 17/150\n",
      "425347/425347 [==============================] - 16s 37us/step - loss: 0.2353 - accuracy: 0.9262 - val_loss: 0.2602 - val_accuracy: 0.9202\n",
      "Epoch 18/150\n",
      "425347/425347 [==============================] - 16s 37us/step - loss: 0.2360 - accuracy: 0.9262 - val_loss: 0.2602 - val_accuracy: 0.9202\n",
      "Epoch 19/150\n",
      "425347/425347 [==============================] - 16s 37us/step - loss: 0.2364 - accuracy: 0.9258 - val_loss: 0.2602 - val_accuracy: 0.9202\n",
      "\n",
      "Epoch 00019: ReduceLROnPlateau reducing learning rate to 3.1250002585636594e-10.\n",
      "Epoch 20/150\n",
      "425347/425347 [==============================] - 16s 36us/step - loss: 0.2359 - accuracy: 0.9262 - val_loss: 0.2602 - val_accuracy: 0.9202\n",
      "Epoch 21/150\n",
      "425347/425347 [==============================] - 16s 37us/step - loss: 0.2360 - accuracy: 0.9259 - val_loss: 0.2602 - val_accuracy: 0.9202\n",
      "Restoring model weights from the end of the best epoch\n",
      "Epoch 00021: early stopping\n"
     ]
    },
    {
     "data": {
      "text/plain": [
       "<keras.callbacks.callbacks.History at 0x7fc6a0aaac18>"
      ]
     },
     "execution_count": 76,
     "metadata": {},
     "output_type": "execute_result"
    }
   ],
   "source": [
    "conv3_model.fit(train_features_matrix[:, :, :, np.newaxis]/255, train_labels_encoded,\n",
    "             batch_size=256, epochs=150,\n",
    "             validation_data=(val_features_matrix[:, :, :, np.newaxis]/255, val_labels_encoded),\n",
    "             callbacks=[lr_reducer, stopper])"
   ]
  },
  {
   "cell_type": "code",
   "execution_count": 77,
   "metadata": {},
   "outputs": [
    {
     "name": "stdout",
     "output_type": "stream",
     "text": [
      "18724/18724 [==============================] - 1s 49us/step\n"
     ]
    },
    {
     "data": {
      "text/plain": [
       "[0.08941344746124477, 0.9733496904373169]"
      ]
     },
     "execution_count": 77,
     "metadata": {},
     "output_type": "execute_result"
    }
   ],
   "source": [
    "conv3_model.evaluate(test_features_matrix[:,:,:,np.newaxis]/255, test_labels_encoded)"
   ]
  }
 ],
 "metadata": {
  "kernelspec": {
   "display_name": "Python 3",
   "language": "python",
   "name": "python3"
  },
  "language_info": {
   "codemirror_mode": {
    "name": "ipython",
    "version": 3
   },
   "file_extension": ".py",
   "mimetype": "text/x-python",
   "name": "python",
   "nbconvert_exporter": "python",
   "pygments_lexer": "ipython3",
   "version": "3.6.9"
  }
 },
 "nbformat": 4,
 "nbformat_minor": 4
}
