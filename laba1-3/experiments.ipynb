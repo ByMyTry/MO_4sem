{
 "cells": [
  {
   "cell_type": "code",
   "execution_count": 1,
   "metadata": {},
   "outputs": [],
   "source": [
    "import os\n",
    "import pandas as pd\n",
    "import numpy as np\n",
    "import matplotlib.pyplot as plt\n",
    "from tqdm import tqdm\n",
    "from sklearn.model_selection import train_test_split\n",
    "from sklearn.svm import SVC\n",
    "from sklearn.linear_model import LogisticRegression\n",
    "from sklearn.decomposition import PCA\n",
    "from joblib import dump, load\n",
    "\n",
    "from data_engineering import read_data, get_filter_duplicates_query"
   ]
  },
  {
   "cell_type": "markdown",
   "metadata": {},
   "source": [
    "### Чтение данных"
   ]
  },
  {
   "cell_type": "code",
   "execution_count": 2,
   "metadata": {},
   "outputs": [],
   "source": [
    "DATA_PATH = '/home/ataleckij/Projects/university/MO_4sem/laba1-3/data/'\n",
    "TRAIN_DATA_PATH = os.path.join(DATA_PATH, 'notMNIST_large/')\n",
    "TEST_DATA_PATH = os.path.join(DATA_PATH, 'notMNIST_small/')"
   ]
  },
  {
   "cell_type": "code",
   "execution_count": 3,
   "metadata": {},
   "outputs": [
    {
     "name": "stderr",
     "output_type": "stream",
     "text": [
      "G: 100%|██████████| 52912/52912 [00:10<00:00, 5024.66it/s]\n",
      "A: 100%|██████████| 52912/52912 [00:10<00:00, 5047.26it/s]\n",
      "F: 100%|██████████| 52912/52912 [00:10<00:00, 5085.88it/s]\n",
      "I: 100%|██████████| 52912/52912 [00:14<00:00, 3669.56it/s]\n",
      "H: 100%|██████████| 52912/52912 [00:15<00:00, 3430.73it/s]\n",
      "C: 100%|██████████| 52912/52912 [00:15<00:00, 3500.01it/s]\n",
      "J: 100%|██████████| 52911/52911 [00:12<00:00, 4159.33it/s]\n",
      "B: 100%|██████████| 52912/52912 [00:10<00:00, 5010.16it/s]\n",
      "E: 100%|██████████| 52912/52912 [00:10<00:00, 4981.69it/s]\n",
      "D: 100%|██████████| 52912/52912 [00:10<00:00, 5054.17it/s]\n"
     ]
    },
    {
     "name": "stdout",
     "output_type": "stream",
     "text": [
      "error: total=5, percent=9.449759409125443e-06\n"
     ]
    },
    {
     "name": "stderr",
     "output_type": "stream",
     "text": [
      "G: 100%|██████████| 1872/1872 [00:00<00:00, 5127.23it/s]\n",
      "A: 100%|██████████| 1873/1873 [00:00<00:00, 5143.11it/s]\n",
      "F: 100%|██████████| 1873/1873 [00:00<00:00, 4962.35it/s]\n",
      "I: 100%|██████████| 1872/1872 [00:00<00:00, 5080.93it/s]\n",
      "H: 100%|██████████| 1872/1872 [00:00<00:00, 4997.24it/s]\n",
      "C: 100%|██████████| 1873/1873 [00:00<00:00, 5233.96it/s]\n",
      "J: 100%|██████████| 1872/1872 [00:00<00:00, 5225.07it/s]\n",
      "B: 100%|██████████| 1873/1873 [00:00<00:00, 5071.45it/s]\n",
      "E: 100%|██████████| 1873/1873 [00:00<00:00, 5158.85it/s]\n",
      "D: 100%|██████████| 1873/1873 [00:00<00:00, 5188.67it/s]"
     ]
    },
    {
     "name": "stdout",
     "output_type": "stream",
     "text": [
      "error: total=2, percent=0.00010681478316599017\n",
      "(529114, 28, 28) (18724, 28, 28)\n",
      "(529114,) (18724,)\n"
     ]
    },
    {
     "name": "stderr",
     "output_type": "stream",
     "text": [
      "\n"
     ]
    }
   ],
   "source": [
    "work_features_matrix, work_labels = read_data(TRAIN_DATA_PATH)\n",
    "test_features_matrix, test_labels = read_data(TEST_DATA_PATH)\n",
    "\n",
    "print(work_features_matrix.shape, test_features_matrix.shape)\n",
    "print(work_labels.shape, test_labels.shape)"
   ]
  },
  {
   "cell_type": "code",
   "execution_count": 4,
   "metadata": {},
   "outputs": [
    {
     "name": "stdout",
     "output_type": "stream",
     "text": [
      "G    52912\n",
      "I    52912\n",
      "C    52912\n",
      "E    52912\n",
      "H    52912\n",
      "F    52912\n",
      "J    52911\n",
      "D    52911\n",
      "B    52911\n",
      "A    52909\n",
      "dtype: int64\n",
      "D    1873\n",
      "C    1873\n",
      "E    1873\n",
      "B    1873\n",
      "J    1872\n",
      "G    1872\n",
      "I    1872\n",
      "F    1872\n",
      "A    1872\n",
      "H    1872\n",
      "dtype: int64\n"
     ]
    }
   ],
   "source": [
    "print(pd.Series(work_labels).value_counts())\n",
    "print(pd.Series(test_labels).value_counts())"
   ]
  },
  {
   "cell_type": "code",
   "execution_count": 6,
   "metadata": {},
   "outputs": [
    {
     "name": "stdout",
     "output_type": "stream",
     "text": [
      "TRAIN IMAGES SAMPLES\n",
      "G\n"
     ]
    },
    {
     "data": {
      "image/png": "[encoded data removed]",
      "text/plain": [
       "<Figure size 432x288 with 1 Axes>"
      ]
     },
     "metadata": {
      "needs_background": "light"
     },
     "output_type": "display_data"
    },
    {
     "name": "stdout",
     "output_type": "stream",
     "text": [
      "J\n"
     ]
    },
    {
     "data": {
      "image/png": "[encoded data removed]",
      "text/plain": [
       "<Figure size 432x288 with 1 Axes>"
      ]
     },
     "metadata": {
      "needs_background": "light"
     },
     "output_type": "display_data"
    },
    {
     "name": "stdout",
     "output_type": "stream",
     "text": [
      "B\n"
     ]
    },
    {
     "data": {
      "image/png": "[encoded data removed]",
      "text/plain": [
       "<Figure size 432x288 with 1 Axes>"
      ]
     },
     "metadata": {
      "needs_background": "light"
     },
     "output_type": "display_data"
    },
    {
     "name": "stdout",
     "output_type": "stream",
     "text": [
      "J\n"
     ]
    },
    {
     "data": {
      "image/png": "[encoded data removed]",
      "text/plain": [
       "<Figure size 432x288 with 1 Axes>"
      ]
     },
     "metadata": {
      "needs_background": "light"
     },
     "output_type": "display_data"
    },
    {
     "name": "stdout",
     "output_type": "stream",
     "text": [
      "TEST IMAGES SAMPLES\n",
      "G\n"
     ]
    },
    {
     "data": {
      "image/png": "[encoded data removed]",
      "text/plain": [
       "<Figure size 432x288 with 1 Axes>"
      ]
     },
     "metadata": {
      "needs_background": "light"
     },
     "output_type": "display_data"
    },
    {
     "name": "stdout",
     "output_type": "stream",
     "text": [
      "F\n"
     ]
    },
    {
     "data": {
      "image/png": "[encoded data removed]",
      "text/plain": [
       "<Figure size 432x288 with 1 Axes>"
      ]
     },
     "metadata": {
      "needs_background": "light"
     },
     "output_type": "display_data"
    },
    {
     "name": "stdout",
     "output_type": "stream",
     "text": [
      "C\n"
     ]
    },
    {
     "data": {
      "image/png": "[encoded data removed]",
      "text/plain": [
       "<Figure size 432x288 with 1 Axes>"
      ]
     },
     "metadata": {
      "needs_background": "light"
     },
     "output_type": "display_data"
    },
    {
     "name": "stdout",
     "output_type": "stream",
     "text": [
      "I\n"
     ]
    },
    {
     "data": {
      "image/png": "[encoded data removed]",
      "text/plain": [
       "<Figure size 432x288 with 1 Axes>"
      ]
     },
     "metadata": {
      "needs_background": "light"
     },
     "output_type": "display_data"
    }
   ],
   "source": [
    "def plt_few_random_images(features_matrix, labels, count=4):\n",
    "    for _ in range(count):\n",
    "        i = np.random.randint(features_matrix.shape[0])\n",
    "        print(labels[i])\n",
    "        plt.imshow(features_matrix[i])\n",
    "        plt.show()\n",
    "\n",
    "print('TRAIN IMAGES SAMPLES')\n",
    "plt_few_random_images(work_features_matrix, work_labels)\n",
    "print('TEST IMAGES SAMPLES')\n",
    "plt_few_random_images(test_features_matrix, test_labels)"
   ]
  },
  {
   "cell_type": "markdown",
   "metadata": {},
   "source": [
    "### Удаление дубликатов данных"
   ]
  },
  {
   "cell_type": "markdown",
   "metadata": {},
   "source": [
    "#### Фильтрация хешами"
   ]
  },
  {
   "cell_type": "code",
   "execution_count": 7,
   "metadata": {},
   "outputs": [
    {
     "name": "stderr",
     "output_type": "stream",
     "text": [
      "100%|██████████| 529114/529114 [00:05<00:00, 103502.80it/s]\n"
     ]
    },
    {
     "data": {
      "text/plain": [
       "(461946,)"
      ]
     },
     "execution_count": 7,
     "metadata": {},
     "output_type": "execute_result"
    }
   ],
   "source": [
    "filter_query = get_filter_duplicates_query(work_features_matrix)\n",
    "filter_query.shape"
   ]
  },
  {
   "cell_type": "code",
   "execution_count": 8,
   "metadata": {},
   "outputs": [],
   "source": [
    "work_features_matrix = work_features_matrix[filter_query]\n",
    "work_labels = work_labels[filter_query]"
   ]
  },
  {
   "cell_type": "code",
   "execution_count": 9,
   "metadata": {},
   "outputs": [
    {
     "name": "stderr",
     "output_type": "stream",
     "text": [
      "100%|██████████| 461946/461946 [00:04<00:00, 108058.17it/s]\n"
     ]
    },
    {
     "data": {
      "text/plain": [
       "(457363,)"
      ]
     },
     "execution_count": 9,
     "metadata": {},
     "output_type": "execute_result"
    }
   ],
   "source": [
    "filter_query = get_filter_duplicates_query(work_features_matrix, test_features_matrix)\n",
    "filter_query.shape"
   ]
  },
  {
   "cell_type": "code",
   "execution_count": 10,
   "metadata": {},
   "outputs": [],
   "source": [
    "work_features_matrix = work_features_matrix[filter_query]\n",
    "work_labels = work_labels[filter_query]"
   ]
  },
  {
   "cell_type": "markdown",
   "metadata": {},
   "source": [
    "#### Фильтрация расстояниями"
   ]
  },
  {
   "cell_type": "code",
   "execution_count": null,
   "metadata": {},
   "outputs": [],
   "source": []
  },
  {
   "cell_type": "markdown",
   "metadata": {},
   "source": [
    "### Разделение данных"
   ]
  },
  {
   "cell_type": "code",
   "execution_count": 11,
   "metadata": {},
   "outputs": [
    {
     "name": "stdout",
     "output_type": "stream",
     "text": [
      "(228681,) (228682,)\n"
     ]
    }
   ],
   "source": [
    "train_indixes, val_indexes = train_test_split(np.arange(work_features_matrix.shape[0]), \n",
    "                                              test_size=0.50, stratify=work_labels, random_state=42)\n",
    "\n",
    "print(train_indixes.shape, val_indexes.shape)"
   ]
  },
  {
   "cell_type": "code",
   "execution_count": 12,
   "metadata": {},
   "outputs": [],
   "source": [
    "train_features_matrix, train_labels = work_features_matrix[train_indixes], work_labels[train_indixes]\n",
    "val_features_matrix, val_labels = work_features_matrix[val_indexes], work_labels[val_indexes]"
   ]
  },
  {
   "cell_type": "markdown",
   "metadata": {},
   "source": [
    "### Обучение простого классификатора"
   ]
  },
  {
   "cell_type": "code",
   "execution_count": 13,
   "metadata": {},
   "outputs": [],
   "source": [
    "def flatten(features_matrix):\n",
    "    flatten_shape = (features_matrix.shape[0], np.prod(features_matrix.shape[1:]))\n",
    "    return features_matrix.reshape(flatten_shape)"
   ]
  },
  {
   "cell_type": "code",
   "execution_count": 14,
   "metadata": {},
   "outputs": [],
   "source": [
    "# work_features = flatten(work_features_matrix)\n",
    "train_features = flatten(train_features_matrix)\n",
    "val_features = flatten(val_features_matrix)\n",
    "test_features = flatten(test_features_matrix)"
   ]
  },
  {
   "cell_type": "code",
   "execution_count": 17,
   "metadata": {},
   "outputs": [
    {
     "data": {
      "text/plain": [
       "SVC(C=15, break_ties=False, cache_size=200, class_weight=None, coef0=0.0,\n",
       "    decision_function_shape='ovr', degree=3, gamma='scale', kernel='rbf',\n",
       "    max_iter=-1, probability=False, random_state=42, shrinking=True, tol=0.001,\n",
       "    verbose=False)"
      ]
     },
     "execution_count": 17,
     "metadata": {},
     "output_type": "execute_result"
    }
   ],
   "source": [
    "# clf = load('svm_0.9626')\n",
    "# pca = load('pca_0.9626')\n",
    "\n",
    "# train_features = pca.transform(train_features/255)\n",
    "# val_features = pca.transform(val_features/255)\n",
    "# test_features = pca.transform(test_features/255)\n",
    "\n",
    "# clf\n",
    "\n",
    "pca = PCA(n_components=50)\n",
    "\n",
    "train_features = pca.fit_transform(train_features/255)\n",
    "val_features = pca.transform(val_features/255)\n",
    "test_features = pca.transform(test_features/255)\n",
    "\n",
    "clf = SVC(C=15, random_state=42, kernel='rbf')  # , max_iter=100\n",
    "clf"
   ]
  },
  {
   "cell_type": "code",
   "execution_count": 125,
   "metadata": {},
   "outputs": [
    {
     "data": {
      "text/plain": [
       "SVC(C=15, break_ties=False, cache_size=200, class_weight=None, coef0=0.0,\n",
       "    decision_function_shape='ovr', degree=3, gamma='scale', kernel='rbf',\n",
       "    max_iter=-1, probability=False, random_state=42, shrinking=True, tol=0.001,\n",
       "    verbose=False)"
      ]
     },
     "execution_count": 125,
     "metadata": {},
     "output_type": "execute_result"
    }
   ],
   "source": [
    "clf.fit(train_features, train_labels)"
   ]
  },
  {
   "cell_type": "code",
   "execution_count": 18,
   "metadata": {},
   "outputs": [
    {
     "data": {
      "text/plain": [
       "0.9662324373253571"
      ]
     },
     "execution_count": 18,
     "metadata": {},
     "output_type": "execute_result"
    }
   ],
   "source": [
    "clf.score(train_features, train_labels)"
   ]
  },
  {
   "cell_type": "code",
   "execution_count": 19,
   "metadata": {},
   "outputs": [
    {
     "data": {
      "text/plain": [
       "0.9072992190028074"
      ]
     },
     "execution_count": 19,
     "metadata": {},
     "output_type": "execute_result"
    }
   ],
   "source": [
    "clf.score(val_features, val_labels)"
   ]
  },
  {
   "cell_type": "markdown",
   "metadata": {},
   "source": [
    "#### контрольное тест"
   ]
  },
  {
   "cell_type": "code",
   "execution_count": 127,
   "metadata": {},
   "outputs": [
    {
     "data": {
      "text/plain": [
       "0.9626148258919034"
      ]
     },
     "execution_count": 127,
     "metadata": {},
     "output_type": "execute_result"
    }
   ],
   "source": [
    "clf.score(test_features, test_labels)"
   ]
  },
  {
   "cell_type": "markdown",
   "metadata": {},
   "source": [
    "если увеличить n_components или train_size можно ещё увеличить качество"
   ]
  },
  {
   "cell_type": "code",
   "execution_count": 129,
   "metadata": {},
   "outputs": [
    {
     "data": {
      "text/plain": [
       "['pca_0.9626']"
      ]
     },
     "execution_count": 129,
     "metadata": {},
     "output_type": "execute_result"
    }
   ],
   "source": [
    "dump(clf, 'svm_0.9626')\n",
    "dump(pca, 'pca_0.9626')\n",
    "\n",
    "# clf = load('svm_0.9626')\n",
    "# pca = load('pca_0.9626')"
   ]
  },
  {
   "cell_type": "markdown",
   "metadata": {},
   "source": [
    "Кривые обучения 50, 100, 1000, 50000"
   ]
  },
  {
   "cell_type": "code",
   "execution_count": 112,
   "metadata": {},
   "outputs": [
    {
     "name": "stderr",
     "output_type": "stream",
     "text": [
      "100%|██████████| 4/4 [03:26<00:00, 51.71s/it]\n"
     ]
    }
   ],
   "source": [
    "def get_learning_curves():\n",
    "    train_values_counts, train_scores, val_scores = [], [], []\n",
    "    for test_size in tqdm([0.99989, 0.99978, 0.9978, 0.8906]):  # 50, 100, 1000, 50000\n",
    "        train_indixes, val_indexes = train_test_split(np.arange(work_features_matrix.shape[0]), \n",
    "                                                  test_size=test_size, stratify=work_labels, random_state=42)\n",
    "        train_features_matrix, train_labels = work_features_matrix[train_indixes], work_labels[train_indixes]\n",
    "        val_features_matrix, val_labels = work_features_matrix[val_indexes], work_labels[val_indexes]\n",
    "        train_features = flatten(train_features_matrix)\n",
    "        val_features = flatten(val_features_matrix)\n",
    "        train_features = pca.fit_transform(train_features/255)\n",
    "        val_features = pca.transform(val_features/255)\n",
    "        clf.fit(train_features, train_labels)\n",
    "        train_values_counts.append(train_features.shape[0])\n",
    "        train_scores.append(clf.score(train_features, train_labels))\n",
    "        val_scores.append(clf.score(val_features[:50000], val_labels[:50000]))\n",
    "    return train_values_counts, train_scores, val_scores\n",
    "\n",
    "train_values_counts, train_scores, val_scores = get_learning_curves()"
   ]
  },
  {
   "cell_type": "code",
   "execution_count": 116,
   "metadata": {},
   "outputs": [
    {
     "name": "stdout",
     "output_type": "stream",
     "text": [
      "[50, 100, 1006, 50035]\n"
     ]
    },
    {
     "data": {
      "image/png": "[encoded data removed]",
      "text/plain": [
       "<Figure size 432x288 with 1 Axes>"
      ]
     },
     "metadata": {
      "needs_background": "light"
     },
     "output_type": "display_data"
    }
   ],
   "source": [
    "print(train_values_counts)\n",
    "plt.scatter(np.log(train_values_counts), train_scores)\n",
    "plt.scatter(np.log(train_values_counts), val_scores)\n",
    "plt.show()"
   ]
  },
  {
   "cell_type": "markdown",
   "metadata": {},
   "source": [
    "### Нейронные сети"
   ]
  },
  {
   "cell_type": "code",
   "execution_count": null,
   "metadata": {},
   "outputs": [],
   "source": []
  }
 ],
 "metadata": {
  "kernelspec": {
   "display_name": "Python 3",
   "language": "python",
   "name": "python3"
  },
  "language_info": {
   "codemirror_mode": {
    "name": "ipython",
    "version": 3
   },
   "file_extension": ".py",
   "mimetype": "text/x-python",
   "name": "python",
   "nbconvert_exporter": "python",
   "pygments_lexer": "ipython3",
   "version": "3.6.9"
  }
 },
 "nbformat": 4,
 "nbformat_minor": 4
}
