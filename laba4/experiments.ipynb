{
 "cells": [
  {
   "cell_type": "code",
   "execution_count": 1,
   "metadata": {},
   "outputs": [
    {
     "name": "stderr",
     "output_type": "stream",
     "text": [
      "/home/ataleckij/Projects/university/MO_4sem/laba4/py3_env/lib/python3.6/site-packages/tensorflow/python/framework/dtypes.py:516: FutureWarning: Passing (type, 1) or '1type' as a synonym of type is deprecated; in a future version of numpy, it will be understood as (type, (1,)) / '(1,)type'.\n",
      "  _np_qint8 = np.dtype([(\"qint8\", np.int8, 1)])\n",
      "/home/ataleckij/Projects/university/MO_4sem/laba4/py3_env/lib/python3.6/site-packages/tensorflow/python/framework/dtypes.py:517: FutureWarning: Passing (type, 1) or '1type' as a synonym of type is deprecated; in a future version of numpy, it will be understood as (type, (1,)) / '(1,)type'.\n",
      "  _np_quint8 = np.dtype([(\"quint8\", np.uint8, 1)])\n",
      "/home/ataleckij/Projects/university/MO_4sem/laba4/py3_env/lib/python3.6/site-packages/tensorflow/python/framework/dtypes.py:518: FutureWarning: Passing (type, 1) or '1type' as a synonym of type is deprecated; in a future version of numpy, it will be understood as (type, (1,)) / '(1,)type'.\n",
      "  _np_qint16 = np.dtype([(\"qint16\", np.int16, 1)])\n",
      "/home/ataleckij/Projects/university/MO_4sem/laba4/py3_env/lib/python3.6/site-packages/tensorflow/python/framework/dtypes.py:519: FutureWarning: Passing (type, 1) or '1type' as a synonym of type is deprecated; in a future version of numpy, it will be understood as (type, (1,)) / '(1,)type'.\n",
      "  _np_quint16 = np.dtype([(\"quint16\", np.uint16, 1)])\n",
      "/home/ataleckij/Projects/university/MO_4sem/laba4/py3_env/lib/python3.6/site-packages/tensorflow/python/framework/dtypes.py:520: FutureWarning: Passing (type, 1) or '1type' as a synonym of type is deprecated; in a future version of numpy, it will be understood as (type, (1,)) / '(1,)type'.\n",
      "  _np_qint32 = np.dtype([(\"qint32\", np.int32, 1)])\n",
      "/home/ataleckij/Projects/university/MO_4sem/laba4/py3_env/lib/python3.6/site-packages/tensorflow/python/framework/dtypes.py:525: FutureWarning: Passing (type, 1) or '1type' as a synonym of type is deprecated; in a future version of numpy, it will be understood as (type, (1,)) / '(1,)type'.\n",
      "  np_resource = np.dtype([(\"resource\", np.ubyte, 1)])\n",
      "/home/ataleckij/Projects/university/MO_4sem/laba4/py3_env/lib/python3.6/site-packages/tensorboard/compat/tensorflow_stub/dtypes.py:541: FutureWarning: Passing (type, 1) or '1type' as a synonym of type is deprecated; in a future version of numpy, it will be understood as (type, (1,)) / '(1,)type'.\n",
      "  _np_qint8 = np.dtype([(\"qint8\", np.int8, 1)])\n",
      "/home/ataleckij/Projects/university/MO_4sem/laba4/py3_env/lib/python3.6/site-packages/tensorboard/compat/tensorflow_stub/dtypes.py:542: FutureWarning: Passing (type, 1) or '1type' as a synonym of type is deprecated; in a future version of numpy, it will be understood as (type, (1,)) / '(1,)type'.\n",
      "  _np_quint8 = np.dtype([(\"quint8\", np.uint8, 1)])\n",
      "/home/ataleckij/Projects/university/MO_4sem/laba4/py3_env/lib/python3.6/site-packages/tensorboard/compat/tensorflow_stub/dtypes.py:543: FutureWarning: Passing (type, 1) or '1type' as a synonym of type is deprecated; in a future version of numpy, it will be understood as (type, (1,)) / '(1,)type'.\n",
      "  _np_qint16 = np.dtype([(\"qint16\", np.int16, 1)])\n",
      "/home/ataleckij/Projects/university/MO_4sem/laba4/py3_env/lib/python3.6/site-packages/tensorboard/compat/tensorflow_stub/dtypes.py:544: FutureWarning: Passing (type, 1) or '1type' as a synonym of type is deprecated; in a future version of numpy, it will be understood as (type, (1,)) / '(1,)type'.\n",
      "  _np_quint16 = np.dtype([(\"quint16\", np.uint16, 1)])\n",
      "/home/ataleckij/Projects/university/MO_4sem/laba4/py3_env/lib/python3.6/site-packages/tensorboard/compat/tensorflow_stub/dtypes.py:545: FutureWarning: Passing (type, 1) or '1type' as a synonym of type is deprecated; in a future version of numpy, it will be understood as (type, (1,)) / '(1,)type'.\n",
      "  _np_qint32 = np.dtype([(\"qint32\", np.int32, 1)])\n",
      "/home/ataleckij/Projects/university/MO_4sem/laba4/py3_env/lib/python3.6/site-packages/tensorboard/compat/tensorflow_stub/dtypes.py:550: FutureWarning: Passing (type, 1) or '1type' as a synonym of type is deprecated; in a future version of numpy, it will be understood as (type, (1,)) / '(1,)type'.\n",
      "  np_resource = np.dtype([(\"resource\", np.ubyte, 1)])\n"
     ]
    }
   ],
   "source": [
    "import os\n",
    "import numpy as np\n",
    "import pandas as pd\n",
    "import tensorflow as tf\n",
    "import tensorflow.keras.backend as K\n",
    "import matplotlib.pyplot as plt\n",
    "# from sklearn.model_selection import train_test_split\n",
    "from tqdm import tqdm\n",
    "from pymatreader import read_mat\n",
    "from skimage.io import imread, imsave\n",
    "from skimage.transform import resize"
   ]
  },
  {
   "cell_type": "code",
   "execution_count": 2,
   "metadata": {},
   "outputs": [
    {
     "name": "stdout",
     "output_type": "stream",
     "text": [
      "[PhysicalDevice(name='/physical_device:GPU:0', device_type='GPU')] True\n"
     ]
    }
   ],
   "source": [
    "# tf.config.gpu.set_per_process_memory_fraction(0.80)\n",
    "\n",
    "gpus = tf.config.experimental.list_physical_devices('GPU')\n",
    "tf.config.experimental.set_virtual_device_configuration(\n",
    "        gpus[0],[tf.config.experimental.VirtualDeviceConfiguration(memory_limit=4*1024)])\n",
    "\n",
    "# tf.config.experimental.set_memory_growth(tf.config.experimental.list_physical_devices('GPU')[0], True)\n",
    "print(tf.config.experimental.list_physical_devices('GPU'), tf.executing_eagerly())"
   ]
  },
  {
   "cell_type": "code",
   "execution_count": 3,
   "metadata": {},
   "outputs": [],
   "source": [
    "# x = [[2.]]\n",
    "# m = tf.matmul(x, x)\n",
    "# print(\"hello, {}\".format(m))\n",
    "# m"
   ]
  },
  {
   "cell_type": "markdown",
   "metadata": {},
   "source": [
    "### data reading"
   ]
  },
  {
   "cell_type": "code",
   "execution_count": 4,
   "metadata": {},
   "outputs": [],
   "source": [
    "def extract_labels(mat_bboxes):\n",
    "    labels = []\n",
    "    for bbox in mat_bboxes:\n",
    "        if type(bbox['label']) is list:\n",
    "            label = ''.join([str(int(value)) for value in bbox['label']])\n",
    "        else:\n",
    "            label = str(int(bbox['label']))\n",
    "        labels.append(label)\n",
    "    return labels\n",
    "\n",
    "def convert_to_csv(set_type):\n",
    "    mat = read_mat(f'data/{set_type}/digitStruct.mat')\n",
    "    \n",
    "    df = pd.DataFrame({\n",
    "        'img_names': mat['digitStruct']['name'], \n",
    "        'labels': extract_labels(mat['digitStruct']['bbox'])\n",
    "    })\n",
    "    df.to_csv(f'data/{set_type}.csv', index=False)\n",
    "    return df"
   ]
  },
  {
   "cell_type": "code",
   "execution_count": 5,
   "metadata": {},
   "outputs": [],
   "source": [
    "# df_train = convert_to_csv('train')\n",
    "# df_test = convert_to_csv('test')"
   ]
  },
  {
   "cell_type": "code",
   "execution_count": 6,
   "metadata": {},
   "outputs": [],
   "source": [
    "df_train = pd.read_csv('data/train.csv')\n",
    "df_test = pd.read_csv('data/test.csv')"
   ]
  },
  {
   "cell_type": "code",
   "execution_count": 7,
   "metadata": {},
   "outputs": [
    {
     "name": "stdout",
     "output_type": "stream",
     "text": [
      "7\n"
     ]
    },
    {
     "data": {
      "image/png": "[encoded data removed]",
      "text/plain": [
       "<Figure size 432x288 with 1 Axes>"
      ]
     },
     "metadata": {
      "needs_background": "light"
     },
     "output_type": "display_data"
    },
    {
     "name": "stdout",
     "output_type": "stream",
     "text": [
      "7\n"
     ]
    },
    {
     "data": {
      "image/png": "[encoded data removed]",
      "text/plain": [
       "<Figure size 432x288 with 1 Axes>"
      ]
     },
     "metadata": {
      "needs_background": "light"
     },
     "output_type": "display_data"
    }
   ],
   "source": [
    "train_lens = df_train['labels'].astype(str).map(lambda s: len(s)).values\n",
    "plt.hist(train_lens, bins=list(range(10)))\n",
    "print(train_lens.max())\n",
    "plt.show()\n",
    "\n",
    "test_lens = df_test['labels'].astype(str).map(lambda s: len(s)).values\n",
    "plt.hist(test_lens, bins=list(range(10)))\n",
    "print(test_lens.max())\n",
    "plt.show()"
   ]
  },
  {
   "cell_type": "code",
   "execution_count": 8,
   "metadata": {},
   "outputs": [
    {
     "name": "stderr",
     "output_type": "stream",
     "text": [
      "100%|██████████| 33402/33402 [00:31<00:00, 1062.25it/s]\n"
     ]
    }
   ],
   "source": [
    "def get_images_stats(df, dir_name):\n",
    "    coefs, widths = [], []\n",
    "    for img_name in tqdm(df['img_names'].values):\n",
    "        img = imread(f'data/{dir_name}/{img_name}')\n",
    "        coefs.append(img.shape[1]/img.shape[0])\n",
    "        widths.append(img.shape[1])\n",
    "    return np.asarray(coefs), np.asarray(widths)\n",
    "\n",
    "coefs, widths = get_images_stats(df_train, 'train')"
   ]
  },
  {
   "cell_type": "code",
   "execution_count": 9,
   "metadata": {},
   "outputs": [
    {
     "data": {
      "image/png": "[encoded data removed]",
      "text/plain": [
       "<Figure size 432x288 with 1 Axes>"
      ]
     },
     "metadata": {
      "needs_background": "light"
     },
     "output_type": "display_data"
    },
    {
     "data": {
      "image/png": "[encoded data removed]",
      "text/plain": [
       "<Figure size 432x288 with 1 Axes>"
      ]
     },
     "metadata": {
      "needs_background": "light"
     },
     "output_type": "display_data"
    }
   ],
   "source": [
    "plt.hist(coefs, bins=np.arange(0, 6, 0.5))\n",
    "plt.show()\n",
    "\n",
    "plt.hist(widths, bins=np.arange(0, 650, 50))\n",
    "plt.show()"
   ]
  },
  {
   "cell_type": "code",
   "execution_count": 10,
   "metadata": {},
   "outputs": [],
   "source": [
    "MAX_NUMBERS = 4#7\n",
    "IMAGES_HEIGHT, IMAGES_WIDTH = 64, 128#90, 180#"
   ]
  },
  {
   "cell_type": "code",
   "execution_count": 11,
   "metadata": {},
   "outputs": [
    {
     "data": {
      "text/plain": [
       "((33402, 2), (13068, 2))"
      ]
     },
     "execution_count": 11,
     "metadata": {},
     "output_type": "execute_result"
    }
   ],
   "source": [
    "df_train.shape, df_test.shape"
   ]
  },
  {
   "cell_type": "code",
   "execution_count": 12,
   "metadata": {},
   "outputs": [
    {
     "data": {
      "text/plain": [
       "((32756, 2), (12961, 2))"
      ]
     },
     "execution_count": 12,
     "metadata": {},
     "output_type": "execute_result"
    }
   ],
   "source": [
    "df_train = df_train[df_train['labels'].astype(str).map(lambda s: len(s)) <= MAX_NUMBERS]\n",
    "df_test = df_test[df_test['labels'].astype(str).map(lambda s: len(s)) <= MAX_NUMBERS]\n",
    "df_train.shape, df_test.shape"
   ]
  },
  {
   "cell_type": "markdown",
   "metadata": {},
   "source": [
    "### model"
   ]
  },
  {
   "cell_type": "code",
   "execution_count": 13,
   "metadata": {},
   "outputs": [],
   "source": [
    "def get_model(max_numbers=MAX_NUMBERS, img_shape=(IMAGES_HEIGHT, IMAGES_WIDTH)):\n",
    "    input_ = x = tf.keras.layers.Input((*img_shape, 3))\n",
    "    \n",
    "    x = tf.keras.layers.Conv2D(32, (3, 3), padding='same', activation='relu')(x)\n",
    "    x = tf.keras.layers.Conv2D(32, (3, 3), padding='same', activation='relu')(x)\n",
    "    x = tf.keras.layers.MaxPool2D((2, 2))(x)\n",
    "    \n",
    "    x = tf.keras.layers.Conv2D(64, (3, 3), padding='same', activation='relu')(x)\n",
    "    x = tf.keras.layers.Conv2D(64, (3, 3), padding='same', activation='relu')(x)\n",
    "    x = tf.keras.layers.MaxPool2D((2, 2))(x)\n",
    "    \n",
    "    x = tf.keras.layers.Conv2D(128, (3, 3), padding='same', activation='relu')(x)\n",
    "    x = tf.keras.layers.Conv2D(128, (3, 3), padding='same', activation='relu')(x)\n",
    "    x = tf.keras.layers.MaxPool2D((2, 2))(x)\n",
    "    \n",
    "#     x = tf.keras.layers.Conv2D(256, (3, 3), padding='same', activation='relu')(x)\n",
    "#     x = tf.keras.layers.Conv2D(256, (3, 3), padding='same', activation='relu')(x)\n",
    "#     x = tf.keras.layers.MaxPool2D((2, 2))(x)\n",
    "    \n",
    "    x = tf.keras.layers.Flatten()(x)\n",
    "    \n",
    "#     x = tf.keras.layers.Dropout(0.35)(x)\n",
    "#     x = tf.keras.layers.Dense(4096, activation='relu')(x)\n",
    "    x = tf.keras.layers.Dropout(0.4)(x)\n",
    "    x = tf.keras.layers.Dense(512, activation='relu')(x)\n",
    "    x = tf.keras.layers.Dropout(0.3)(x)\n",
    "    \n",
    "    len_prediction = tf.keras.layers.Dense(128, activation='relu')(x)\n",
    "    len_prediction = tf.keras.layers.Dense(max_numbers, activation='softmax')(len_prediction)\n",
    "#     if sparse:\n",
    "#         len_prediction = tf.keras.backend.argmax(len_prediction, axis=-1) + 1\n",
    "    len_prediction = tf.keras.backend.expand_dims(len_prediction, axis=-1)\n",
    "        \n",
    "    numbers_predictions = []\n",
    "    for _ in range(max_numbers):\n",
    "        ni_pred = tf.keras.layers.Dense(128, activation='relu')(x)\n",
    "        ni_pred = tf.keras.layers.Dense(10, activation='softmax')(ni_pred)\n",
    "#         if sparse:\n",
    "#             ni_pred = tf.keras.backend.argmax(ni_pred, axis=-1)\n",
    "        ni_pred = tf.keras.backend.expand_dims(ni_pred, axis=1)\n",
    "        numbers_predictions.append(ni_pred)\n",
    "\n",
    "    output = tf.keras.layers.concatenate([*numbers_predictions], axis=1)\n",
    "    output = tf.keras.layers.concatenate([len_prediction, output], axis=-1)\n",
    "    return tf.keras.models.Model(input_, output)"
   ]
  },
  {
   "cell_type": "code",
   "execution_count": 14,
   "metadata": {},
   "outputs": [
    {
     "name": "stdout",
     "output_type": "stream",
     "text": [
      "Model: \"model\"\n",
      "__________________________________________________________________________________________________\n",
      "Layer (type)                    Output Shape         Param #     Connected to                     \n",
      "==================================================================================================\n",
      "input_1 (InputLayer)            [(None, 64, 128, 3)] 0                                            \n",
      "__________________________________________________________________________________________________\n",
      "conv2d (Conv2D)                 (None, 64, 128, 32)  896         input_1[0][0]                    \n",
      "__________________________________________________________________________________________________\n",
      "conv2d_1 (Conv2D)               (None, 64, 128, 32)  9248        conv2d[0][0]                     \n",
      "__________________________________________________________________________________________________\n",
      "max_pooling2d (MaxPooling2D)    (None, 32, 64, 32)   0           conv2d_1[0][0]                   \n",
      "__________________________________________________________________________________________________\n",
      "conv2d_2 (Conv2D)               (None, 32, 64, 64)   18496       max_pooling2d[0][0]              \n",
      "__________________________________________________________________________________________________\n",
      "conv2d_3 (Conv2D)               (None, 32, 64, 64)   36928       conv2d_2[0][0]                   \n",
      "__________________________________________________________________________________________________\n",
      "max_pooling2d_1 (MaxPooling2D)  (None, 16, 32, 64)   0           conv2d_3[0][0]                   \n",
      "__________________________________________________________________________________________________\n",
      "conv2d_4 (Conv2D)               (None, 16, 32, 128)  73856       max_pooling2d_1[0][0]            \n",
      "__________________________________________________________________________________________________\n",
      "conv2d_5 (Conv2D)               (None, 16, 32, 128)  147584      conv2d_4[0][0]                   \n",
      "__________________________________________________________________________________________________\n",
      "max_pooling2d_2 (MaxPooling2D)  (None, 8, 16, 128)   0           conv2d_5[0][0]                   \n",
      "__________________________________________________________________________________________________\n",
      "flatten (Flatten)               (None, 16384)        0           max_pooling2d_2[0][0]            \n",
      "__________________________________________________________________________________________________\n",
      "dropout (Dropout)               (None, 16384)        0           flatten[0][0]                    \n",
      "__________________________________________________________________________________________________\n",
      "dense (Dense)                   (None, 512)          8389120     dropout[0][0]                    \n",
      "__________________________________________________________________________________________________\n",
      "dropout_1 (Dropout)             (None, 512)          0           dense[0][0]                      \n",
      "__________________________________________________________________________________________________\n",
      "dense_3 (Dense)                 (None, 128)          65664       dropout_1[0][0]                  \n",
      "__________________________________________________________________________________________________\n",
      "dense_5 (Dense)                 (None, 128)          65664       dropout_1[0][0]                  \n",
      "__________________________________________________________________________________________________\n",
      "dense_7 (Dense)                 (None, 128)          65664       dropout_1[0][0]                  \n",
      "__________________________________________________________________________________________________\n",
      "dense_9 (Dense)                 (None, 128)          65664       dropout_1[0][0]                  \n",
      "__________________________________________________________________________________________________\n",
      "dense_1 (Dense)                 (None, 128)          65664       dropout_1[0][0]                  \n",
      "__________________________________________________________________________________________________\n",
      "dense_4 (Dense)                 (None, 10)           1290        dense_3[0][0]                    \n",
      "__________________________________________________________________________________________________\n",
      "dense_6 (Dense)                 (None, 10)           1290        dense_5[0][0]                    \n",
      "__________________________________________________________________________________________________\n",
      "dense_8 (Dense)                 (None, 10)           1290        dense_7[0][0]                    \n",
      "__________________________________________________________________________________________________\n",
      "dense_10 (Dense)                (None, 10)           1290        dense_9[0][0]                    \n",
      "__________________________________________________________________________________________________\n",
      "dense_2 (Dense)                 (None, 4)            516         dense_1[0][0]                    \n",
      "__________________________________________________________________________________________________\n",
      "tf_op_layer_ExpandDims_1 (Tenso [(None, 1, 10)]      0           dense_4[0][0]                    \n",
      "__________________________________________________________________________________________________\n",
      "tf_op_layer_ExpandDims_2 (Tenso [(None, 1, 10)]      0           dense_6[0][0]                    \n",
      "__________________________________________________________________________________________________\n",
      "tf_op_layer_ExpandDims_3 (Tenso [(None, 1, 10)]      0           dense_8[0][0]                    \n",
      "__________________________________________________________________________________________________\n",
      "tf_op_layer_ExpandDims_4 (Tenso [(None, 1, 10)]      0           dense_10[0][0]                   \n",
      "__________________________________________________________________________________________________\n",
      "tf_op_layer_ExpandDims (TensorF [(None, 4, 1)]       0           dense_2[0][0]                    \n",
      "__________________________________________________________________________________________________\n",
      "concatenate (Concatenate)       (None, 4, 10)        0           tf_op_layer_ExpandDims_1[0][0]   \n",
      "                                                                 tf_op_layer_ExpandDims_2[0][0]   \n",
      "                                                                 tf_op_layer_ExpandDims_3[0][0]   \n",
      "                                                                 tf_op_layer_ExpandDims_4[0][0]   \n",
      "__________________________________________________________________________________________________\n",
      "concatenate_1 (Concatenate)     (None, 4, 11)        0           tf_op_layer_ExpandDims[0][0]     \n",
      "                                                                 concatenate[0][0]                \n",
      "==================================================================================================\n",
      "Total params: 9,010,124\n",
      "Trainable params: 9,010,124\n",
      "Non-trainable params: 0\n",
      "__________________________________________________________________________________________________\n"
     ]
    }
   ],
   "source": [
    "model = get_model()\n",
    "model.summary()"
   ]
  },
  {
   "cell_type": "code",
   "execution_count": 15,
   "metadata": {},
   "outputs": [
    {
     "data": {
      "text/plain": [
       "(5, 4, 11)"
      ]
     },
     "execution_count": 15,
     "metadata": {},
     "output_type": "execute_result"
    }
   ],
   "source": [
    "x1 = model.predict(np.random.randint(0, 255, (5, IMAGES_HEIGHT, IMAGES_WIDTH, 3)))\n",
    "x2 = x1.copy()\n",
    "x1.shape"
   ]
  },
  {
   "cell_type": "code",
   "execution_count": 16,
   "metadata": {},
   "outputs": [],
   "source": [
    "# mobilenetv2_model = tf.keras.applications.MobileNetV2(include_top=False, weights=None, pooling=None)\n",
    "# mobilenetv2_model.summary()"
   ]
  },
  {
   "cell_type": "code",
   "execution_count": 17,
   "metadata": {},
   "outputs": [],
   "source": [
    "# def get_mobile_model(max_numbers=MAX_NUMBERS, size=IMAGES_SIZE):\n",
    "#     input_ = x = tf.keras.layers.Input((size, size, 3))\n",
    "    \n",
    "#     mobilenetv2_convbase = tf.keras.applications.MobileNetV2(\n",
    "#         include_top=False, weights=None, pooling=None\n",
    "#     )\n",
    "#     x = mobilenetv2_convbase(x)\n",
    "# #     x = tf.keras.layers.MaxPool2D((2, 2))(x)\n",
    "    \n",
    "#     x = tf.keras.layers.Flatten()(x)\n",
    "    \n",
    "#     x = tf.keras.layers.Dropout(0.3)(x)\n",
    "#     x = tf.keras.layers.Dense(512, activation='relu')(x)\n",
    "#     x = tf.keras.layers.Dropout(0.25)(x)\n",
    "    \n",
    "#     len_prediction = tf.keras.layers.Dense(128, activation='relu')(x)\n",
    "#     len_prediction = tf.keras.layers.Dense(max_numbers, activation='softmax')(len_prediction)\n",
    "# #     if sparse:\n",
    "# #         len_prediction = tf.keras.backend.argmax(len_prediction, axis=-1) + 1\n",
    "#     len_prediction = tf.keras.backend.expand_dims(len_prediction, axis=-1)\n",
    "        \n",
    "#     numbers_predictions = []\n",
    "#     for _ in range(max_numbers):\n",
    "#         ni_pred = tf.keras.layers.Dense(128, activation='relu')(x)\n",
    "#         ni_pred = tf.keras.layers.Dense(10, activation='softmax')(ni_pred)\n",
    "# #         if sparse:\n",
    "# #             ni_pred = tf.keras.backend.argmax(ni_pred, axis=-1)\n",
    "#         ni_pred = tf.keras.backend.expand_dims(ni_pred, axis=1)\n",
    "#         numbers_predictions.append(ni_pred)\n",
    "\n",
    "#     output = tf.keras.layers.concatenate([*numbers_predictions], axis=1)\n",
    "#     output = tf.keras.layers.concatenate([len_prediction, output], axis=-1)\n",
    "#     return tf.keras.models.Model(input_, output)"
   ]
  },
  {
   "cell_type": "code",
   "execution_count": 18,
   "metadata": {},
   "outputs": [],
   "source": [
    "# mobilenetv2_model = get_mobile_model()\n",
    "# mobilenetv2_model.summary()"
   ]
  },
  {
   "cell_type": "markdown",
   "metadata": {},
   "source": [
    "### Data Preprocess"
   ]
  },
  {
   "cell_type": "code",
   "execution_count": 19,
   "metadata": {},
   "outputs": [],
   "source": [
    "def encode_label(label, max_numbers=MAX_NUMBERS):\n",
    "    len_ = len(label)\n",
    "    len_encoding = np.zeros(max_numbers)\n",
    "    len_encoding[len_ - 1] = 1\n",
    "    len_encoding = len_encoding[:, np.newaxis]\n",
    "    \n",
    "    numbers_encoding = np.zeros((max_numbers, 10))\n",
    "    numbers_encoding[np.arange(len_), np.asarray(list(label)).astype(int)] = 1\n",
    "    return np.hstack((len_encoding, numbers_encoding))"
   ]
  },
  {
   "cell_type": "code",
   "execution_count": 20,
   "metadata": {},
   "outputs": [],
   "source": [
    "# def get_generator(df, dir_name, batch_size, shuffle=True):\n",
    "#     while True:\n",
    "#         if shuffle:\n",
    "#             df = df.sample(frac=1).reset_index(drop=True)\n",
    "#         images, labels = [], []\n",
    "#         for i, (img_name, label) in enumerate(df[['img_names', 'labels']].values):\n",
    "#             img = imread(f'data/{dir_name}/{img_name}')\n",
    "#             if 1.8 < img.shape[1] / img.shape[0] < 2.2:\n",
    "#                 img_padded = img\n",
    "#             elif img.shape[1] / img.shape[0] <= 1.8:\n",
    "#                 img_padded = pad_image(img, (img.shape[0], img.shape[0]*2))\n",
    "#             elif img.shape[1] / img.shape[0] >= 2.2:\n",
    "#                 img_padded = pad_image(img, (img.shape[1]//2, img.shape[1]))\n",
    "#             else:\n",
    "#                 raise NotImplementedError()\n",
    "#             img_padded_resized= resize(img_padded, (IMAGES_HEIGHT, IMAGES_WIDTH))# devide 255\n",
    "# #             print(img_padded_resized.max())\n",
    "#             images.append(img_padded_resized)\n",
    "#             labels.append(encode_label(str(label)))\n",
    "#             if ((i + 1) % 16 == 0 and i != 0) or (i + 1) == df.shape[0] - 1:\n",
    "#                 yield np.asarray(images), np.asarray(labels)\n",
    "#                 images, labels = [], []"
   ]
  },
  {
   "cell_type": "code",
   "execution_count": 21,
   "metadata": {},
   "outputs": [],
   "source": [
    "def pad_image(img, new_shape):\n",
    "    pad_img = np.zeros((*new_shape, 3))\n",
    "    pad_img[:img.shape[0], :img.shape[1]] = img\n",
    "    return pad_img.astype(np.uint8)\n",
    "\n",
    "\n",
    "def unify_data_dir(df, dir_name, new_dir_name):\n",
    "    if not os.path.isdir(f'data/{new_dir_name}'):\n",
    "        os.mkdir(f'data/{new_dir_name}')\n",
    "    for img_name, label in tqdm(df[['img_names', 'labels']].values):\n",
    "        img = imread(f'data/{dir_name}/{img_name}')\n",
    "        top_coeg, bot_coef = 2.2, 1.8\n",
    "        if bot_coef < img.shape[1] / img.shape[0] < top_coeg:\n",
    "            img_padded = img\n",
    "        elif img.shape[1] / img.shape[0] <= bot_coef:\n",
    "            img_padded = pad_image(img, (img.shape[0], img.shape[0]*2))\n",
    "        elif img.shape[1] / img.shape[0] >= top_coeg:\n",
    "            img_padded = pad_image(img, (img.shape[1]//2, img.shape[1]))\n",
    "        else:\n",
    "            raise NotImplementedError()\n",
    "        img_padded_resized = resize(img_padded, (IMAGES_HEIGHT, IMAGES_WIDTH))\n",
    "        if not os.path.isdir(f'data/{new_dir_name}/{label}'):\n",
    "            os.mkdir(f'data/{new_dir_name}/{label}')\n",
    "        img_padded_resized *= 255\n",
    "        img_padded_resized[img_padded_resized > 255] = 255\n",
    "        imsave(f'data/{new_dir_name}/{label}/{img_name}', img_padded_resized.astype(np.uint8))"
   ]
  },
  {
   "cell_type": "code",
   "execution_count": null,
   "metadata": {},
   "outputs": [
    {
     "name": "stderr",
     "output_type": "stream",
     "text": [
      " 64%|██████▍   | 8296/12961 [01:25<00:41, 113.61it/s]"
     ]
    }
   ],
   "source": [
    "# unify_data_dir(df_train, 'train', 'train_unified')\n",
    "# unify_data_dir(df_test, 'test', 'test_unified')"
   ]
  },
  {
   "cell_type": "code",
   "execution_count": 23,
   "metadata": {},
   "outputs": [],
   "source": [
    "def get_gen(dir_, gen_options, batch_size, max_numbers, target_shape):\n",
    "    generator_creator = tf.keras.preprocessing.image.ImageDataGenerator(**gen_options)\n",
    "    generator = generator_creator.flow_from_directory(\n",
    "        dir_,\n",
    "        target_size=target_shape,\n",
    "        batch_size=batch_size,\n",
    "        class_mode='sparse'\n",
    "    )\n",
    "    labels_names = np.asarray(sorted(os.listdir(dir_)))\n",
    "    while True:\n",
    "        images, labels_indexes = next(generator)\n",
    "        encoded_labels = np.vstack(\n",
    "            list(map(encode_label, labels_names[labels_indexes.astype(int)]))\n",
    "        ).reshape(images.shape[0], max_numbers, 11)\n",
    "        yield images, encoded_labels#, labels"
   ]
  },
  {
   "cell_type": "code",
   "execution_count": 24,
   "metadata": {},
   "outputs": [
    {
     "data": {
      "text/plain": [
       "array([[[0., 0., 1., 0., 0., 0., 0., 0., 0., 0., 0.],\n",
       "        [0., 0., 0., 0., 0., 0., 0., 0., 0., 0., 1.],\n",
       "        [1., 0., 0., 0., 0., 0., 1., 0., 0., 0., 0.],\n",
       "        [0., 0., 0., 0., 0., 0., 0., 0., 0., 0., 0.]],\n",
       "\n",
       "       [[0., 0., 0., 0., 0., 1., 0., 0., 0., 0., 0.],\n",
       "        [0., 0., 0., 1., 0., 0., 0., 0., 0., 0., 0.],\n",
       "        [1., 0., 0., 0., 1., 0., 0., 0., 0., 0., 0.],\n",
       "        [0., 0., 0., 0., 0., 0., 0., 0., 0., 0., 0.]]])"
      ]
     },
     "execution_count": 24,
     "metadata": {},
     "output_type": "execute_result"
    }
   ],
   "source": [
    "np.vstack(\n",
    "    list(map(encode_label, ['195', '423']))\n",
    ").reshape(2, 4, 11)"
   ]
  },
  {
   "cell_type": "code",
   "execution_count": 26,
   "metadata": {},
   "outputs": [
    {
     "name": "stdout",
     "output_type": "stream",
     "text": [
      "Found 32756 images belonging to 1536 classes.\n"
     ]
    },
    {
     "data": {
      "text/plain": [
       "((32, 64, 128, 3), (32, 4, 11))"
      ]
     },
     "execution_count": 26,
     "metadata": {},
     "output_type": "execute_result"
    }
   ],
   "source": [
    "gen_options = dict(\n",
    "    rescale=1/255,\n",
    "    rotation_range=0.05, \n",
    "    zoom_range=0.025,\n",
    "    width_shift_range=0.2, \n",
    "    height_shift_range=0.2, \n",
    "    fill_mode=\"nearest\"\n",
    ")\n",
    "\n",
    "train_gen = get_gen(\n",
    "    'data/train_unified', gen_options, \n",
    "    batch_size=32, max_numbers=MAX_NUMBERS,\n",
    "    target_shape=(IMAGES_HEIGHT, IMAGES_WIDTH)\n",
    ")\n",
    "\n",
    "next(train_gen)[0].shape, next(train_gen)[1].shape"
   ]
  },
  {
   "cell_type": "code",
   "execution_count": 27,
   "metadata": {},
   "outputs": [],
   "source": [
    "img_sample, e_label_sample = next(train_gen)"
   ]
  },
  {
   "cell_type": "code",
   "execution_count": 28,
   "metadata": {},
   "outputs": [
    {
     "name": "stdout",
     "output_type": "stream",
     "text": [
      "[[0. 0. 0. 0. 1. 0. 0. 0. 0. 0. 0.]\n",
      " [1. 0. 0. 0. 0. 0. 0. 1. 0. 0. 0.]\n",
      " [0. 0. 0. 0. 0. 0. 0. 0. 0. 0. 0.]\n",
      " [0. 0. 0. 0. 0. 0. 0. 0. 0. 0. 0.]]\n"
     ]
    },
    {
     "data": {
      "image/png": "[encoded data removed]",
      "text/plain": [
       "<Figure size 432x288 with 1 Axes>"
      ]
     },
     "metadata": {
      "needs_background": "light"
     },
     "output_type": "display_data"
    }
   ],
   "source": [
    "i=4\n",
    "print(e_label_sample[i])#, label_sample[i])\n",
    "plt.imshow(img_sample[i])\n",
    "plt.show()"
   ]
  },
  {
   "cell_type": "markdown",
   "metadata": {},
   "source": [
    "### fitting"
   ]
  },
  {
   "cell_type": "code",
   "execution_count": 29,
   "metadata": {},
   "outputs": [],
   "source": [
    "def numbers_loss(y_true, y_pred):\n",
    "    true_len = y_true[:, :, 0]\n",
    "    pred_len = y_pred[:, :, 0]\n",
    "    len_loss = true_len * tf.math.log(pred_len + tf.keras.backend.epsilon())\n",
    "\n",
    "    true_numbers = y_true[:, :, 1:]\n",
    "    pred_numbers = y_pred[:, :, 1:]\n",
    "    numbers_loss = true_numbers * tf.math.log(pred_numbers + tf.keras.backend.epsilon())\n",
    "    \n",
    "    return tf.concat((-0.8 * tf.expand_dims(len_loss, axis=-1), \n",
    "                      -1.2 * numbers_loss), axis=-1)"
   ]
  },
  {
   "cell_type": "code",
   "execution_count": 30,
   "metadata": {},
   "outputs": [],
   "source": [
    "def get_len_mask(len_, max_numbers=MAX_NUMBERS):\n",
    "    return tf.cast(tf.range(MAX_NUMBERS) < len_, tf.int32)\n",
    "\n",
    "def numbers_acc(y_true, y_pred, weights=[0.3, 0.7]):\n",
    "    true_len = y_true[:, :, 0]\n",
    "    pred_len = y_pred[:, :, 0]\n",
    "    sparse_true_len = tf.argmax(true_len, axis=-1) + 1  # +1 because of length\n",
    "    len_acc = tf.cast(tf.equal(sparse_true_len, tf.argmax(pred_len, axis=-1) + 1), tf.float32)\n",
    "\n",
    "    true_numbers = y_true[:, :, 1:]\n",
    "    pred_numbers = y_pred[:, :, 1:]\n",
    "    numbers_acc = tf.cast(tf.equal(tf.argmax(true_numbers, axis=-1), \n",
    "                                   tf.argmax(pred_numbers, axis=-1)), tf.float32)\n",
    "    len_mask = tf.map_fn(get_len_mask, tf.cast(sparse_true_len, tf.int32))\n",
    "    numbers_acc = tf.boolean_mask(numbers_acc, len_mask)\n",
    "    \n",
    "    return weights[0] * tf.reduce_mean(len_acc) + weights[1] * tf.reduce_mean(numbers_acc)"
   ]
  },
  {
   "cell_type": "code",
   "execution_count": 31,
   "metadata": {},
   "outputs": [
    {
     "name": "stdout",
     "output_type": "stream",
     "text": [
      "WARNING:tensorflow:From /home/ataleckij/Projects/university/MO_4sem/laba4/py3_env/lib/python3.6/site-packages/tensorflow/python/ops/array_ops.py:1340: add_dispatch_support.<locals>.wrapper (from tensorflow.python.ops.array_ops) is deprecated and will be removed in a future version.\n",
      "Instructions for updating:\n",
      "Use tf.where in 2.0, which has the same broadcast rule as np.where\n"
     ]
    },
    {
     "data": {
      "text/plain": [
       "<tf.Tensor: id=910, shape=(), dtype=float32, numpy=0.7>"
      ]
     },
     "execution_count": 31,
     "metadata": {},
     "output_type": "execute_result"
    }
   ],
   "source": [
    "numbers_acc(encode_label('211')[np.newaxis, :, :], \n",
    "            encode_label('2110')[np.newaxis, :, :])"
   ]
  },
  {
   "cell_type": "code",
   "execution_count": 32,
   "metadata": {},
   "outputs": [],
   "source": [
    "# EPOCHS = 50\n",
    "# BATCH_SIZE = 64\n",
    "# VAL_BATCH_SIZE = 16\n",
    "\n",
    "# mobilenetv2_model.compile(loss=numbers_loss, optimizer='adam', metrics=[numbers_acc])\n",
    "\n",
    "# mobilenetv2_model.fit_generator(\n",
    "#     get_generator(df_train.iloc[:int(0.8 * df_train.shape[0])], 'train', BATCH_SIZE),\n",
    "#     steps_per_epoch=(0.8 * df_train.shape[0]) // BATCH_SIZE,\n",
    "#     validation_data=get_generator(df_train.iloc[-int(0.2 * df_train.shape[0]):], 'train', VAL_BATCH_SIZE),\n",
    "#     validation_steps=(0.2 * df_train.shape[0]) // VAL_BATCH_SIZE,\n",
    "#     epochs=EPOCHS\n",
    "# )"
   ]
  },
  {
   "cell_type": "code",
   "execution_count": 33,
   "metadata": {},
   "outputs": [
    {
     "name": "stdout",
     "output_type": "stream",
     "text": [
      "Epoch 1/100\n",
      "Found 32756 images belonging to 1536 classes.\n",
      "510/511 [============================>.] - ETA: 0s - loss: 0.1521 - numbers_acc: 0.3280Found 13068 images belonging to 757 classes.\n"
     ]
    },
    {
     "ename": "IndexError",
     "evalue": "index 4 is out of bounds for axis 0 with size 4",
     "output_type": "error",
     "traceback": [
      "\u001b[0;31m---------------------------------------------------------------------------\u001b[0m",
      "\u001b[0;31mIndexError\u001b[0m                                Traceback (most recent call last)",
      "\u001b[0;32m<ipython-input-33-40580a07b7b7>\u001b[0m in \u001b[0;36m<module>\u001b[0;34m\u001b[0m\n\u001b[1;32m     44\u001b[0m     ),\n\u001b[1;32m     45\u001b[0m     \u001b[0mvalidation_steps\u001b[0m\u001b[0;34m=\u001b[0m\u001b[0mdf_test\u001b[0m\u001b[0;34m.\u001b[0m\u001b[0mshape\u001b[0m\u001b[0;34m[\u001b[0m\u001b[0;36m0\u001b[0m\u001b[0;34m]\u001b[0m \u001b[0;34m//\u001b[0m \u001b[0mVAL_BATCH_SIZE\u001b[0m\u001b[0;34m,\u001b[0m\u001b[0;34m\u001b[0m\u001b[0;34m\u001b[0m\u001b[0m\n\u001b[0;32m---> 46\u001b[0;31m     \u001b[0mepochs\u001b[0m\u001b[0;34m=\u001b[0m\u001b[0mEPOCHS\u001b[0m\u001b[0;34m\u001b[0m\u001b[0;34m\u001b[0m\u001b[0m\n\u001b[0m\u001b[1;32m     47\u001b[0m )\n",
      "\u001b[0;32m~/Projects/university/MO_4sem/laba4/py3_env/lib/python3.6/site-packages/tensorflow/python/keras/engine/training.py\u001b[0m in \u001b[0;36mfit_generator\u001b[0;34m(self, generator, steps_per_epoch, epochs, verbose, callbacks, validation_data, validation_steps, validation_freq, class_weight, max_queue_size, workers, use_multiprocessing, shuffle, initial_epoch)\u001b[0m\n\u001b[1;32m   1174\u001b[0m         \u001b[0mshuffle\u001b[0m\u001b[0;34m=\u001b[0m\u001b[0mshuffle\u001b[0m\u001b[0;34m,\u001b[0m\u001b[0;34m\u001b[0m\u001b[0;34m\u001b[0m\u001b[0m\n\u001b[1;32m   1175\u001b[0m         \u001b[0minitial_epoch\u001b[0m\u001b[0;34m=\u001b[0m\u001b[0minitial_epoch\u001b[0m\u001b[0;34m,\u001b[0m\u001b[0;34m\u001b[0m\u001b[0;34m\u001b[0m\u001b[0m\n\u001b[0;32m-> 1176\u001b[0;31m         steps_name='steps_per_epoch')\n\u001b[0m\u001b[1;32m   1177\u001b[0m \u001b[0;34m\u001b[0m\u001b[0m\n\u001b[1;32m   1178\u001b[0m   def evaluate_generator(self,\n",
      "\u001b[0;32m~/Projects/university/MO_4sem/laba4/py3_env/lib/python3.6/site-packages/tensorflow/python/keras/engine/training_generator.py\u001b[0m in \u001b[0;36mmodel_iteration\u001b[0;34m(model, data, steps_per_epoch, epochs, verbose, callbacks, validation_data, validation_steps, validation_freq, class_weight, max_queue_size, workers, use_multiprocessing, shuffle, initial_epoch, mode, batch_size, steps_name, **kwargs)\u001b[0m\n\u001b[1;32m    320\u001b[0m           \u001b[0mverbose\u001b[0m\u001b[0;34m=\u001b[0m\u001b[0;36m0\u001b[0m\u001b[0;34m,\u001b[0m\u001b[0;34m\u001b[0m\u001b[0;34m\u001b[0m\u001b[0m\n\u001b[1;32m    321\u001b[0m           \u001b[0mmode\u001b[0m\u001b[0;34m=\u001b[0m\u001b[0mModeKeys\u001b[0m\u001b[0;34m.\u001b[0m\u001b[0mTEST\u001b[0m\u001b[0;34m,\u001b[0m\u001b[0;34m\u001b[0m\u001b[0;34m\u001b[0m\u001b[0m\n\u001b[0;32m--> 322\u001b[0;31m           steps_name='validation_steps')\n\u001b[0m\u001b[1;32m    323\u001b[0m \u001b[0;34m\u001b[0m\u001b[0m\n\u001b[1;32m    324\u001b[0m       \u001b[0;32mif\u001b[0m \u001b[0;32mnot\u001b[0m \u001b[0misinstance\u001b[0m\u001b[0;34m(\u001b[0m\u001b[0mval_results\u001b[0m\u001b[0;34m,\u001b[0m \u001b[0mlist\u001b[0m\u001b[0;34m)\u001b[0m\u001b[0;34m:\u001b[0m\u001b[0;34m\u001b[0m\u001b[0;34m\u001b[0m\u001b[0m\n",
      "\u001b[0;32m~/Projects/university/MO_4sem/laba4/py3_env/lib/python3.6/site-packages/tensorflow/python/keras/engine/training_generator.py\u001b[0m in \u001b[0;36mmodel_iteration\u001b[0;34m(model, data, steps_per_epoch, epochs, verbose, callbacks, validation_data, validation_steps, validation_freq, class_weight, max_queue_size, workers, use_multiprocessing, shuffle, initial_epoch, mode, batch_size, steps_name, **kwargs)\u001b[0m\n\u001b[1;32m    218\u001b[0m     \u001b[0mstep\u001b[0m \u001b[0;34m=\u001b[0m \u001b[0;36m0\u001b[0m\u001b[0;34m\u001b[0m\u001b[0;34m\u001b[0m\u001b[0m\n\u001b[1;32m    219\u001b[0m     \u001b[0;32mwhile\u001b[0m \u001b[0mstep\u001b[0m \u001b[0;34m<\u001b[0m \u001b[0mtarget_steps\u001b[0m\u001b[0;34m:\u001b[0m\u001b[0;34m\u001b[0m\u001b[0;34m\u001b[0m\u001b[0m\n\u001b[0;32m--> 220\u001b[0;31m       \u001b[0mbatch_data\u001b[0m \u001b[0;34m=\u001b[0m \u001b[0m_get_next_batch\u001b[0m\u001b[0;34m(\u001b[0m\u001b[0mgenerator\u001b[0m\u001b[0;34m,\u001b[0m \u001b[0mmode\u001b[0m\u001b[0;34m)\u001b[0m\u001b[0;34m\u001b[0m\u001b[0;34m\u001b[0m\u001b[0m\n\u001b[0m\u001b[1;32m    221\u001b[0m       \u001b[0;32mif\u001b[0m \u001b[0mbatch_data\u001b[0m \u001b[0;32mis\u001b[0m \u001b[0;32mNone\u001b[0m\u001b[0;34m:\u001b[0m\u001b[0;34m\u001b[0m\u001b[0;34m\u001b[0m\u001b[0m\n\u001b[1;32m    222\u001b[0m         \u001b[0;32mif\u001b[0m \u001b[0mis_dataset\u001b[0m\u001b[0;34m:\u001b[0m\u001b[0;34m\u001b[0m\u001b[0;34m\u001b[0m\u001b[0m\n",
      "\u001b[0;32m~/Projects/university/MO_4sem/laba4/py3_env/lib/python3.6/site-packages/tensorflow/python/keras/engine/training_generator.py\u001b[0m in \u001b[0;36m_get_next_batch\u001b[0;34m(generator, mode)\u001b[0m\n\u001b[1;32m    360\u001b[0m   \u001b[0;34m\"\"\"Retrieves the next batch of input data.\"\"\"\u001b[0m\u001b[0;34m\u001b[0m\u001b[0;34m\u001b[0m\u001b[0m\n\u001b[1;32m    361\u001b[0m   \u001b[0;32mtry\u001b[0m\u001b[0;34m:\u001b[0m\u001b[0;34m\u001b[0m\u001b[0;34m\u001b[0m\u001b[0m\n\u001b[0;32m--> 362\u001b[0;31m     \u001b[0mgenerator_output\u001b[0m \u001b[0;34m=\u001b[0m \u001b[0mnext\u001b[0m\u001b[0;34m(\u001b[0m\u001b[0mgenerator\u001b[0m\u001b[0;34m)\u001b[0m\u001b[0;34m\u001b[0m\u001b[0;34m\u001b[0m\u001b[0m\n\u001b[0m\u001b[1;32m    363\u001b[0m   \u001b[0;32mexcept\u001b[0m \u001b[0;34m(\u001b[0m\u001b[0mStopIteration\u001b[0m\u001b[0;34m,\u001b[0m \u001b[0merrors\u001b[0m\u001b[0;34m.\u001b[0m\u001b[0mOutOfRangeError\u001b[0m\u001b[0;34m)\u001b[0m\u001b[0;34m:\u001b[0m\u001b[0;34m\u001b[0m\u001b[0;34m\u001b[0m\u001b[0m\n\u001b[1;32m    364\u001b[0m     \u001b[0;32mreturn\u001b[0m \u001b[0;32mNone\u001b[0m\u001b[0;34m\u001b[0m\u001b[0;34m\u001b[0m\u001b[0m\n",
      "\u001b[0;32m~/Projects/university/MO_4sem/laba4/py3_env/lib/python3.6/site-packages/tensorflow/python/keras/utils/data_utils.py\u001b[0m in \u001b[0;36mget\u001b[0;34m(self)\u001b[0m\n\u001b[1;32m    916\u001b[0m             \u001b[0;34m'Keras requires a thread-safe generator when '\u001b[0m\u001b[0;34m\u001b[0m\u001b[0;34m\u001b[0m\u001b[0m\n\u001b[1;32m    917\u001b[0m             '`use_multiprocessing=False, workers > 1`. ')\n\u001b[0;32m--> 918\u001b[0;31m       \u001b[0msix\u001b[0m\u001b[0;34m.\u001b[0m\u001b[0mreraise\u001b[0m\u001b[0;34m(\u001b[0m\u001b[0;34m*\u001b[0m\u001b[0msys\u001b[0m\u001b[0;34m.\u001b[0m\u001b[0mexc_info\u001b[0m\u001b[0;34m(\u001b[0m\u001b[0;34m)\u001b[0m\u001b[0;34m)\u001b[0m\u001b[0;34m\u001b[0m\u001b[0;34m\u001b[0m\u001b[0m\n\u001b[0m",
      "\u001b[0;32m~/Projects/university/MO_4sem/laba4/py3_env/lib/python3.6/site-packages/six.py\u001b[0m in \u001b[0;36mreraise\u001b[0;34m(tp, value, tb)\u001b[0m\n\u001b[1;32m    701\u001b[0m             \u001b[0;32mif\u001b[0m \u001b[0mvalue\u001b[0m\u001b[0;34m.\u001b[0m\u001b[0m__traceback__\u001b[0m \u001b[0;32mis\u001b[0m \u001b[0;32mnot\u001b[0m \u001b[0mtb\u001b[0m\u001b[0;34m:\u001b[0m\u001b[0;34m\u001b[0m\u001b[0;34m\u001b[0m\u001b[0m\n\u001b[1;32m    702\u001b[0m                 \u001b[0;32mraise\u001b[0m \u001b[0mvalue\u001b[0m\u001b[0;34m.\u001b[0m\u001b[0mwith_traceback\u001b[0m\u001b[0;34m(\u001b[0m\u001b[0mtb\u001b[0m\u001b[0;34m)\u001b[0m\u001b[0;34m\u001b[0m\u001b[0;34m\u001b[0m\u001b[0m\n\u001b[0;32m--> 703\u001b[0;31m             \u001b[0;32mraise\u001b[0m \u001b[0mvalue\u001b[0m\u001b[0;34m\u001b[0m\u001b[0;34m\u001b[0m\u001b[0m\n\u001b[0m\u001b[1;32m    704\u001b[0m         \u001b[0;32mfinally\u001b[0m\u001b[0;34m:\u001b[0m\u001b[0;34m\u001b[0m\u001b[0;34m\u001b[0m\u001b[0m\n\u001b[1;32m    705\u001b[0m             \u001b[0mvalue\u001b[0m \u001b[0;34m=\u001b[0m \u001b[0;32mNone\u001b[0m\u001b[0;34m\u001b[0m\u001b[0;34m\u001b[0m\u001b[0m\n",
      "\u001b[0;32m~/Projects/university/MO_4sem/laba4/py3_env/lib/python3.6/site-packages/tensorflow/python/keras/utils/data_utils.py\u001b[0m in \u001b[0;36mget\u001b[0;34m(self)\u001b[0m\n\u001b[1;32m    892\u001b[0m     \u001b[0;32mtry\u001b[0m\u001b[0;34m:\u001b[0m\u001b[0;34m\u001b[0m\u001b[0;34m\u001b[0m\u001b[0m\n\u001b[1;32m    893\u001b[0m       \u001b[0;32mwhile\u001b[0m \u001b[0mself\u001b[0m\u001b[0;34m.\u001b[0m\u001b[0mis_running\u001b[0m\u001b[0;34m(\u001b[0m\u001b[0;34m)\u001b[0m\u001b[0;34m:\u001b[0m\u001b[0;34m\u001b[0m\u001b[0;34m\u001b[0m\u001b[0m\n\u001b[0;32m--> 894\u001b[0;31m         \u001b[0minputs\u001b[0m \u001b[0;34m=\u001b[0m \u001b[0mself\u001b[0m\u001b[0;34m.\u001b[0m\u001b[0mqueue\u001b[0m\u001b[0;34m.\u001b[0m\u001b[0mget\u001b[0m\u001b[0;34m(\u001b[0m\u001b[0mblock\u001b[0m\u001b[0;34m=\u001b[0m\u001b[0;32mTrue\u001b[0m\u001b[0;34m)\u001b[0m\u001b[0;34m.\u001b[0m\u001b[0mget\u001b[0m\u001b[0;34m(\u001b[0m\u001b[0;34m)\u001b[0m\u001b[0;34m\u001b[0m\u001b[0;34m\u001b[0m\u001b[0m\n\u001b[0m\u001b[1;32m    895\u001b[0m         \u001b[0mself\u001b[0m\u001b[0;34m.\u001b[0m\u001b[0mqueue\u001b[0m\u001b[0;34m.\u001b[0m\u001b[0mtask_done\u001b[0m\u001b[0;34m(\u001b[0m\u001b[0;34m)\u001b[0m\u001b[0;34m\u001b[0m\u001b[0;34m\u001b[0m\u001b[0m\n\u001b[1;32m    896\u001b[0m         \u001b[0;32mif\u001b[0m \u001b[0minputs\u001b[0m \u001b[0;32mis\u001b[0m \u001b[0;32mnot\u001b[0m \u001b[0;32mNone\u001b[0m\u001b[0;34m:\u001b[0m\u001b[0;34m\u001b[0m\u001b[0;34m\u001b[0m\u001b[0m\n",
      "\u001b[0;32m/usr/lib/python3.6/multiprocessing/pool.py\u001b[0m in \u001b[0;36mget\u001b[0;34m(self, timeout)\u001b[0m\n\u001b[1;32m    642\u001b[0m             \u001b[0;32mreturn\u001b[0m \u001b[0mself\u001b[0m\u001b[0;34m.\u001b[0m\u001b[0m_value\u001b[0m\u001b[0;34m\u001b[0m\u001b[0;34m\u001b[0m\u001b[0m\n\u001b[1;32m    643\u001b[0m         \u001b[0;32melse\u001b[0m\u001b[0;34m:\u001b[0m\u001b[0;34m\u001b[0m\u001b[0;34m\u001b[0m\u001b[0m\n\u001b[0;32m--> 644\u001b[0;31m             \u001b[0;32mraise\u001b[0m \u001b[0mself\u001b[0m\u001b[0;34m.\u001b[0m\u001b[0m_value\u001b[0m\u001b[0;34m\u001b[0m\u001b[0;34m\u001b[0m\u001b[0m\n\u001b[0m\u001b[1;32m    645\u001b[0m \u001b[0;34m\u001b[0m\u001b[0m\n\u001b[1;32m    646\u001b[0m     \u001b[0;32mdef\u001b[0m \u001b[0m_set\u001b[0m\u001b[0;34m(\u001b[0m\u001b[0mself\u001b[0m\u001b[0;34m,\u001b[0m \u001b[0mi\u001b[0m\u001b[0;34m,\u001b[0m \u001b[0mobj\u001b[0m\u001b[0;34m)\u001b[0m\u001b[0;34m:\u001b[0m\u001b[0;34m\u001b[0m\u001b[0;34m\u001b[0m\u001b[0m\n",
      "\u001b[0;32m/usr/lib/python3.6/multiprocessing/pool.py\u001b[0m in \u001b[0;36mworker\u001b[0;34m(inqueue, outqueue, initializer, initargs, maxtasks, wrap_exception)\u001b[0m\n\u001b[1;32m    117\u001b[0m         \u001b[0mjob\u001b[0m\u001b[0;34m,\u001b[0m \u001b[0mi\u001b[0m\u001b[0;34m,\u001b[0m \u001b[0mfunc\u001b[0m\u001b[0;34m,\u001b[0m \u001b[0margs\u001b[0m\u001b[0;34m,\u001b[0m \u001b[0mkwds\u001b[0m \u001b[0;34m=\u001b[0m \u001b[0mtask\u001b[0m\u001b[0;34m\u001b[0m\u001b[0;34m\u001b[0m\u001b[0m\n\u001b[1;32m    118\u001b[0m         \u001b[0;32mtry\u001b[0m\u001b[0;34m:\u001b[0m\u001b[0;34m\u001b[0m\u001b[0;34m\u001b[0m\u001b[0m\n\u001b[0;32m--> 119\u001b[0;31m             \u001b[0mresult\u001b[0m \u001b[0;34m=\u001b[0m \u001b[0;34m(\u001b[0m\u001b[0;32mTrue\u001b[0m\u001b[0;34m,\u001b[0m \u001b[0mfunc\u001b[0m\u001b[0;34m(\u001b[0m\u001b[0;34m*\u001b[0m\u001b[0margs\u001b[0m\u001b[0;34m,\u001b[0m \u001b[0;34m**\u001b[0m\u001b[0mkwds\u001b[0m\u001b[0;34m)\u001b[0m\u001b[0;34m)\u001b[0m\u001b[0;34m\u001b[0m\u001b[0;34m\u001b[0m\u001b[0m\n\u001b[0m\u001b[1;32m    120\u001b[0m         \u001b[0;32mexcept\u001b[0m \u001b[0mException\u001b[0m \u001b[0;32mas\u001b[0m \u001b[0me\u001b[0m\u001b[0;34m:\u001b[0m\u001b[0;34m\u001b[0m\u001b[0;34m\u001b[0m\u001b[0m\n\u001b[1;32m    121\u001b[0m             \u001b[0;32mif\u001b[0m \u001b[0mwrap_exception\u001b[0m \u001b[0;32mand\u001b[0m \u001b[0mfunc\u001b[0m \u001b[0;32mis\u001b[0m \u001b[0;32mnot\u001b[0m \u001b[0m_helper_reraises_exception\u001b[0m\u001b[0;34m:\u001b[0m\u001b[0;34m\u001b[0m\u001b[0;34m\u001b[0m\u001b[0m\n",
      "\u001b[0;32m~/Projects/university/MO_4sem/laba4/py3_env/lib/python3.6/site-packages/tensorflow/python/keras/utils/data_utils.py\u001b[0m in \u001b[0;36mnext_sample\u001b[0;34m(uid)\u001b[0m\n\u001b[1;32m    826\u001b[0m       \u001b[0mThe\u001b[0m \u001b[0mnext\u001b[0m \u001b[0mvalue\u001b[0m \u001b[0mof\u001b[0m \u001b[0mgenerator\u001b[0m\u001b[0;31m \u001b[0m\u001b[0;31m`\u001b[0m\u001b[0muid\u001b[0m\u001b[0;31m`\u001b[0m\u001b[0;34m.\u001b[0m\u001b[0;34m\u001b[0m\u001b[0;34m\u001b[0m\u001b[0m\n\u001b[1;32m    827\u001b[0m   \"\"\"\n\u001b[0;32m--> 828\u001b[0;31m   \u001b[0;32mreturn\u001b[0m \u001b[0msix\u001b[0m\u001b[0;34m.\u001b[0m\u001b[0mnext\u001b[0m\u001b[0;34m(\u001b[0m\u001b[0m_SHARED_SEQUENCES\u001b[0m\u001b[0;34m[\u001b[0m\u001b[0muid\u001b[0m\u001b[0;34m]\u001b[0m\u001b[0;34m)\u001b[0m\u001b[0;34m\u001b[0m\u001b[0;34m\u001b[0m\u001b[0m\n\u001b[0m\u001b[1;32m    829\u001b[0m \u001b[0;34m\u001b[0m\u001b[0m\n\u001b[1;32m    830\u001b[0m \u001b[0;34m\u001b[0m\u001b[0m\n",
      "\u001b[0;32m<ipython-input-23-870361e40ca7>\u001b[0m in \u001b[0;36mget_gen\u001b[0;34m(dir_, gen_options, batch_size, max_numbers, target_shape)\u001b[0m\n\u001b[1;32m     11\u001b[0m         \u001b[0mimages\u001b[0m\u001b[0;34m,\u001b[0m \u001b[0mlabels_indexes\u001b[0m \u001b[0;34m=\u001b[0m \u001b[0mnext\u001b[0m\u001b[0;34m(\u001b[0m\u001b[0mgenerator\u001b[0m\u001b[0;34m)\u001b[0m\u001b[0;34m\u001b[0m\u001b[0;34m\u001b[0m\u001b[0m\n\u001b[1;32m     12\u001b[0m         encoded_labels = np.vstack(\n\u001b[0;32m---> 13\u001b[0;31m             \u001b[0mlist\u001b[0m\u001b[0;34m(\u001b[0m\u001b[0mmap\u001b[0m\u001b[0;34m(\u001b[0m\u001b[0mencode_label\u001b[0m\u001b[0;34m,\u001b[0m \u001b[0mlabels_names\u001b[0m\u001b[0;34m[\u001b[0m\u001b[0mlabels_indexes\u001b[0m\u001b[0;34m.\u001b[0m\u001b[0mastype\u001b[0m\u001b[0;34m(\u001b[0m\u001b[0mint\u001b[0m\u001b[0;34m)\u001b[0m\u001b[0;34m]\u001b[0m\u001b[0;34m)\u001b[0m\u001b[0;34m)\u001b[0m\u001b[0;34m\u001b[0m\u001b[0;34m\u001b[0m\u001b[0m\n\u001b[0m\u001b[1;32m     14\u001b[0m         ).reshape(images.shape[0], max_numbers, 11)\n\u001b[1;32m     15\u001b[0m         \u001b[0;32myield\u001b[0m \u001b[0mimages\u001b[0m\u001b[0;34m,\u001b[0m \u001b[0mencoded_labels\u001b[0m\u001b[0;31m#, labels\u001b[0m\u001b[0;34m\u001b[0m\u001b[0;34m\u001b[0m\u001b[0m\n",
      "\u001b[0;32m<ipython-input-19-33465fdf0dd0>\u001b[0m in \u001b[0;36mencode_label\u001b[0;34m(label, max_numbers)\u001b[0m\n\u001b[1;32m      2\u001b[0m     \u001b[0mlen_\u001b[0m \u001b[0;34m=\u001b[0m \u001b[0mlen\u001b[0m\u001b[0;34m(\u001b[0m\u001b[0mlabel\u001b[0m\u001b[0;34m)\u001b[0m\u001b[0;34m\u001b[0m\u001b[0;34m\u001b[0m\u001b[0m\n\u001b[1;32m      3\u001b[0m     \u001b[0mlen_encoding\u001b[0m \u001b[0;34m=\u001b[0m \u001b[0mnp\u001b[0m\u001b[0;34m.\u001b[0m\u001b[0mzeros\u001b[0m\u001b[0;34m(\u001b[0m\u001b[0mmax_numbers\u001b[0m\u001b[0;34m)\u001b[0m\u001b[0;34m\u001b[0m\u001b[0;34m\u001b[0m\u001b[0m\n\u001b[0;32m----> 4\u001b[0;31m     \u001b[0mlen_encoding\u001b[0m\u001b[0;34m[\u001b[0m\u001b[0mlen_\u001b[0m \u001b[0;34m-\u001b[0m \u001b[0;36m1\u001b[0m\u001b[0;34m]\u001b[0m \u001b[0;34m=\u001b[0m \u001b[0;36m1\u001b[0m\u001b[0;34m\u001b[0m\u001b[0;34m\u001b[0m\u001b[0m\n\u001b[0m\u001b[1;32m      5\u001b[0m     \u001b[0mlen_encoding\u001b[0m \u001b[0;34m=\u001b[0m \u001b[0mlen_encoding\u001b[0m\u001b[0;34m[\u001b[0m\u001b[0;34m:\u001b[0m\u001b[0;34m,\u001b[0m \u001b[0mnp\u001b[0m\u001b[0;34m.\u001b[0m\u001b[0mnewaxis\u001b[0m\u001b[0;34m]\u001b[0m\u001b[0;34m\u001b[0m\u001b[0;34m\u001b[0m\u001b[0m\n\u001b[1;32m      6\u001b[0m \u001b[0;34m\u001b[0m\u001b[0m\n",
      "\u001b[0;31mIndexError\u001b[0m: index 4 is out of bounds for axis 0 with size 4"
     ]
    }
   ],
   "source": [
    "EPOCHS = 100\n",
    "BATCH_SIZE = 64\n",
    "VAL_BATCH_SIZE = 16\n",
    "\n",
    "gen_options = dict(\n",
    "    rescale=1/255,\n",
    "    rotation_range=0.025,\n",
    "    zoom_range=0.015,\n",
    "    width_shift_range=0.25, \n",
    "    height_shift_range=0.25, \n",
    "    fill_mode=\"constant\",\n",
    "    cval=0\n",
    ")\n",
    "\n",
    "val_gen_options = dict(\n",
    "    rescale=1/255,\n",
    ")\n",
    "\n",
    "model.compile(loss=numbers_loss, optimizer=tf.keras.optimizers.Adam(), metrics=[numbers_acc])\n",
    "\n",
    "model.fit_generator(\n",
    "    get_gen(\n",
    "        'data/train_unified', gen_options, \n",
    "        batch_size=BATCH_SIZE, max_numbers=MAX_NUMBERS,\n",
    "        target_shape=(IMAGES_HEIGHT, IMAGES_WIDTH)\n",
    "    ),\n",
    "#     get_generator(\n",
    "#         df_train,#.iloc[:int(0.8 * df_train.shape[0])], \n",
    "#         'train', \n",
    "#         BATCH_SIZE\n",
    "#     ),\n",
    "    steps_per_epoch=df_train.shape[0] // BATCH_SIZE,\n",
    "#     steps_per_epoch=(0.8 * df_train.shape[0]) // BATCH_SIZE,\n",
    "#     validation_data=get_generator(\n",
    "#         df_train.iloc[-int(0.2 * df_train.shape[0]):], \n",
    "#         'train',\n",
    "#         VAL_BATCH_SIZE\n",
    "#     ),\n",
    "#     validation_steps=(0.2 * df_train.shape[0]) // VAL_BATCH_SIZE,\n",
    "    validation_data=get_gen(\n",
    "        'data/test_unified', val_gen_options, \n",
    "        batch_size=VAL_BATCH_SIZE, max_numbers=MAX_NUMBERS,\n",
    "        target_shape=(IMAGES_HEIGHT, IMAGES_WIDTH)\n",
    "    ),\n",
    "    validation_steps=df_test.shape[0] // VAL_BATCH_SIZE,\n",
    "    epochs=EPOCHS\n",
    ")"
   ]
  },
  {
   "cell_type": "code",
   "execution_count": 24,
   "metadata": {},
   "outputs": [
    {
     "name": "stdout",
     "output_type": "stream",
     "text": [
      "Epoch 1/50\n",
      "409/409 [==============================] - 45s 111ms/step - loss: 0.1582 - numbers_acc: 0.3329 - val_loss: 0.1505 - val_numbers_acc: 0.3325\n",
      "Epoch 2/50\n",
      "409/409 [==============================] - 43s 105ms/step - loss: 0.1499 - numbers_acc: 0.3343 - val_loss: 0.1499 - val_numbers_acc: 0.3438\n",
      "Epoch 3/50\n",
      "409/409 [==============================] - 42s 104ms/step - loss: 0.1492 - numbers_acc: 0.3432 - val_loss: 0.1496 - val_numbers_acc: 0.3448\n",
      "Epoch 4/50\n",
      "409/409 [==============================] - 43s 105ms/step - loss: 0.1495 - numbers_acc: 0.3464 - val_loss: 0.1493 - val_numbers_acc: 0.3452\n",
      "Epoch 5/50\n",
      "409/409 [==============================] - 44s 107ms/step - loss: 0.1499 - numbers_acc: 0.3482 - val_loss: 0.1492 - val_numbers_acc: 0.3459\n",
      "Epoch 6/50\n",
      "409/409 [==============================] - 43s 105ms/step - loss: 0.1490 - numbers_acc: 0.3411 - val_loss: 0.1495 - val_numbers_acc: 0.3440\n",
      "Epoch 7/50\n",
      "409/409 [==============================] - 43s 106ms/step - loss: 0.1485 - numbers_acc: 0.3453 - val_loss: 0.1493 - val_numbers_acc: 0.3453\n",
      "Epoch 8/50\n",
      "409/409 [==============================] - 43s 104ms/step - loss: 0.1492 - numbers_acc: 0.3470 - val_loss: 0.1492 - val_numbers_acc: 0.3451\n",
      "Epoch 9/50\n",
      "409/409 [==============================] - 43s 105ms/step - loss: 0.1497 - numbers_acc: 0.3491 - val_loss: 0.1493 - val_numbers_acc: 0.3459\n",
      "Epoch 10/50\n",
      "409/409 [==============================] - 43s 106ms/step - loss: 0.1476 - numbers_acc: 0.3488 - val_loss: 0.1455 - val_numbers_acc: 0.3734\n",
      "Epoch 11/50\n",
      "409/409 [==============================] - 43s 105ms/step - loss: 0.1419 - numbers_acc: 0.3828 - val_loss: 0.1361 - val_numbers_acc: 0.4146\n",
      "Epoch 12/50\n",
      "409/409 [==============================] - 43s 106ms/step - loss: 0.1301 - numbers_acc: 0.4355 - val_loss: 0.1194 - val_numbers_acc: 0.4831\n",
      "Epoch 13/50\n",
      "409/409 [==============================] - 43s 106ms/step - loss: 0.1201 - numbers_acc: 0.4822 - val_loss: 0.1071 - val_numbers_acc: 0.5408\n",
      "Epoch 14/50\n",
      "409/409 [==============================] - 43s 105ms/step - loss: 0.1125 - numbers_acc: 0.5110 - val_loss: 0.1026 - val_numbers_acc: 0.5669\n",
      "Epoch 15/50\n",
      "409/409 [==============================] - 43s 105ms/step - loss: 0.1062 - numbers_acc: 0.5443 - val_loss: 0.0988 - val_numbers_acc: 0.5804\n",
      "Epoch 16/50\n",
      "409/409 [==============================] - 43s 105ms/step - loss: 0.1020 - numbers_acc: 0.5651 - val_loss: 0.0926 - val_numbers_acc: 0.6149\n",
      "Epoch 17/50\n",
      "409/409 [==============================] - 44s 108ms/step - loss: 0.0970 - numbers_acc: 0.5934 - val_loss: 0.0897 - val_numbers_acc: 0.6292\n",
      "Epoch 18/50\n",
      "409/409 [==============================] - 43s 105ms/step - loss: 0.0938 - numbers_acc: 0.6034 - val_loss: 0.0888 - val_numbers_acc: 0.6334\n",
      "Epoch 19/50\n",
      "409/409 [==============================] - 43s 106ms/step - loss: 0.0898 - numbers_acc: 0.6156 - val_loss: 0.0844 - val_numbers_acc: 0.6486\n",
      "Epoch 20/50\n",
      "409/409 [==============================] - 43s 105ms/step - loss: 0.0887 - numbers_acc: 0.6260 - val_loss: 0.0807 - val_numbers_acc: 0.6664\n",
      "Epoch 21/50\n",
      "409/409 [==============================] - 45s 109ms/step - loss: 0.0858 - numbers_acc: 0.6473 - val_loss: 0.0789 - val_numbers_acc: 0.6769\n",
      "Epoch 22/50\n",
      "409/409 [==============================] - 43s 106ms/step - loss: 0.0833 - numbers_acc: 0.6466 - val_loss: 0.0793 - val_numbers_acc: 0.6806\n",
      "Epoch 23/50\n",
      "409/409 [==============================] - 42s 103ms/step - loss: 0.0800 - numbers_acc: 0.6655 - val_loss: 0.0750 - val_numbers_acc: 0.6927\n",
      "Epoch 24/50\n",
      "409/409 [==============================] - 43s 106ms/step - loss: 0.0800 - numbers_acc: 0.6640 - val_loss: 0.0742 - val_numbers_acc: 0.6968\n",
      "Epoch 25/50\n",
      "409/409 [==============================] - 43s 106ms/step - loss: 0.0781 - numbers_acc: 0.6801 - val_loss: 0.0723 - val_numbers_acc: 0.7062\n",
      "Epoch 26/50\n",
      "409/409 [==============================] - 42s 104ms/step - loss: 0.0769 - numbers_acc: 0.6774 - val_loss: 0.0756 - val_numbers_acc: 0.6939\n",
      "Epoch 27/50\n",
      "409/409 [==============================] - 43s 106ms/step - loss: 0.0734 - numbers_acc: 0.6898 - val_loss: 0.0705 - val_numbers_acc: 0.7114\n",
      "Epoch 28/50\n",
      "409/409 [==============================] - 42s 104ms/step - loss: 0.0738 - numbers_acc: 0.6909 - val_loss: 0.0714 - val_numbers_acc: 0.7089\n",
      "Epoch 29/50\n",
      "409/409 [==============================] - 43s 105ms/step - loss: 0.0728 - numbers_acc: 0.7015 - val_loss: 0.0707 - val_numbers_acc: 0.7085\n",
      "Epoch 30/50\n",
      "409/409 [==============================] - 44s 108ms/step - loss: 0.0713 - numbers_acc: 0.7012 - val_loss: 0.0714 - val_numbers_acc: 0.7107\n",
      "Epoch 31/50\n",
      "409/409 [==============================] - 44s 108ms/step - loss: 0.0682 - numbers_acc: 0.7159 - val_loss: 0.0681 - val_numbers_acc: 0.7202\n",
      "Epoch 32/50\n",
      "409/409 [==============================] - 43s 104ms/step - loss: 0.0687 - numbers_acc: 0.7114 - val_loss: 0.0687 - val_numbers_acc: 0.7171\n",
      "Epoch 33/50\n",
      "409/409 [==============================] - 44s 107ms/step - loss: 0.0669 - numbers_acc: 0.7254 - val_loss: 0.0676 - val_numbers_acc: 0.7214\n",
      "Epoch 34/50\n",
      "409/409 [==============================] - 43s 106ms/step - loss: 0.0664 - numbers_acc: 0.7188 - val_loss: 0.0685 - val_numbers_acc: 0.7201\n",
      "Epoch 35/50\n",
      "409/409 [==============================] - 43s 106ms/step - loss: 0.0635 - numbers_acc: 0.7295 - val_loss: 0.0674 - val_numbers_acc: 0.7232\n",
      "Epoch 36/50\n",
      "409/409 [==============================] - 43s 106ms/step - loss: 0.0646 - numbers_acc: 0.7302 - val_loss: 0.0719 - val_numbers_acc: 0.7050\n",
      "Epoch 37/50\n",
      "409/409 [==============================] - 45s 110ms/step - loss: 0.0633 - numbers_acc: 0.7359 - val_loss: 0.0660 - val_numbers_acc: 0.7297\n",
      "Epoch 38/50\n",
      "409/409 [==============================] - 44s 106ms/step - loss: 0.0630 - numbers_acc: 0.7333 - val_loss: 0.0662 - val_numbers_acc: 0.7285\n",
      "Epoch 39/50\n",
      "409/409 [==============================] - 44s 106ms/step - loss: 0.0610 - numbers_acc: 0.7434 - val_loss: 0.0661 - val_numbers_acc: 0.7324\n",
      "Epoch 40/50\n",
      "409/409 [==============================] - 43s 106ms/step - loss: 0.0603 - numbers_acc: 0.7502 - val_loss: 0.0659 - val_numbers_acc: 0.7319\n",
      "Epoch 41/50\n",
      "409/409 [==============================] - 44s 107ms/step - loss: 0.0588 - numbers_acc: 0.7551 - val_loss: 0.0668 - val_numbers_acc: 0.7274\n",
      "Epoch 42/50\n",
      "409/409 [==============================] - 43s 106ms/step - loss: 0.0589 - numbers_acc: 0.7551 - val_loss: 0.0682 - val_numbers_acc: 0.7227\n",
      "Epoch 43/50\n",
      "409/409 [==============================] - 44s 107ms/step - loss: 0.0572 - numbers_acc: 0.7612 - val_loss: 0.0647 - val_numbers_acc: 0.7371\n",
      "Epoch 44/50\n",
      "409/409 [==============================] - 44s 108ms/step - loss: 0.0577 - numbers_acc: 0.7601 - val_loss: 0.0658 - val_numbers_acc: 0.7346\n",
      "Epoch 45/50\n",
      "409/409 [==============================] - 44s 107ms/step - loss: 0.0561 - numbers_acc: 0.7681 - val_loss: 0.0652 - val_numbers_acc: 0.7353\n",
      "Epoch 46/50\n",
      "409/409 [==============================] - 44s 107ms/step - loss: 0.0552 - numbers_acc: 0.7676 - val_loss: 0.0666 - val_numbers_acc: 0.7345\n",
      "Epoch 47/50\n",
      "409/409 [==============================] - 44s 107ms/step - loss: 0.0545 - numbers_acc: 0.7721 - val_loss: 0.0651 - val_numbers_acc: 0.7402\n",
      "Epoch 48/50\n",
      "409/409 [==============================] - 43s 106ms/step - loss: 0.0542 - numbers_acc: 0.7772 - val_loss: 0.0669 - val_numbers_acc: 0.7337\n",
      "Epoch 49/50\n",
      "409/409 [==============================] - 44s 107ms/step - loss: 0.0531 - numbers_acc: 0.7802 - val_loss: 0.0676 - val_numbers_acc: 0.7283\n",
      "Epoch 50/50\n",
      "409/409 [==============================] - 44s 107ms/step - loss: 0.0529 - numbers_acc: 0.7756 - val_loss: 0.0663 - val_numbers_acc: 0.7342\n"
     ]
    },
    {
     "data": {
      "text/plain": [
       "<tensorflow.python.keras.callbacks.History at 0x7f92dc0d7a90>"
      ]
     },
     "execution_count": 24,
     "metadata": {},
     "output_type": "execute_result"
    }
   ],
   "source": [
    "EPOCHS = 50\n",
    "BATCH_SIZE = 64\n",
    "VAL_BATCH_SIZE = 16\n",
    "\n",
    "# generator = tf.keras.preprocessing.image.ImageDataGenerator(\n",
    "# #     rescale=1/255,\n",
    "#     rotation_range=0.05, \n",
    "#     zoom_range=0.025,\n",
    "#     width_shift_range=0.2, \n",
    "#     height_shift_range=0.2, \n",
    "#     fill_mode=\"nearest\"\n",
    "# )\n",
    "\n",
    "model.compile(loss=numbers_loss, optimizer='adam', metrics=[numbers_acc])\n",
    "\n",
    "model.fit_generator(\n",
    "#     generator.flow(\n",
    "#         ImagesAccesor(df_train), LabelsAccesor(df_train), \n",
    "#         batch_size=BATCH_SIZE\n",
    "#     ),\n",
    "#     validation_split=0.2, \n",
    "    get_generator(df_train.iloc[:int(0.8 * df_train.shape[0])], 'train', BATCH_SIZE),\n",
    "    steps_per_epoch=(0.8 * df_train.shape[0]) // BATCH_SIZE,\n",
    "    validation_data=get_generator(df_train.iloc[-int(0.2 * df_train.shape[0]):], 'train', VAL_BATCH_SIZE),\n",
    "    validation_steps=(0.2 * df_train.shape[0]) // VAL_BATCH_SIZE,\n",
    "    epochs=EPOCHS\n",
    ")"
   ]
  },
  {
   "cell_type": "markdown",
   "metadata": {},
   "source": [
    "### Tensorflow lite export"
   ]
  },
  {
   "cell_type": "code",
   "execution_count": null,
   "metadata": {},
   "outputs": [],
   "source": [
    "def save_model_to_tflite(model, tflite_model_name):\n",
    "    converter = tf.lite.TFLiteConverter.from_keras_model(model)\n",
    "    tflite_model = converter.convert()\n",
    "    with open(f'data/{tflite_model_name}', \"wb\") as f:\n",
    "        f.write(tflite_model)"
   ]
  },
  {
   "cell_type": "code",
   "execution_count": null,
   "metadata": {},
   "outputs": [],
   "source": [
    "# save_model_to_tflite(mobilenetv2_model, 'numbers_MobileNetV2.tflite')\n",
    "save_model_to_tflite(mobilenetv2_model, 'numbers_custom_model.tflite')"
   ]
  }
 ],
 "metadata": {
  "kernelspec": {
   "display_name": "Python 3",
   "language": "python",
   "name": "python3"
  },
  "language_info": {
   "codemirror_mode": {
    "name": "ipython",
    "version": 3
   },
   "file_extension": ".py",
   "mimetype": "text/x-python",
   "name": "python",
   "nbconvert_exporter": "python",
   "pygments_lexer": "ipython3",
   "version": "3.6.9"
  }
 },
 "nbformat": 4,
 "nbformat_minor": 4
}
