{
 "cells": [
  {
   "cell_type": "code",
   "execution_count": 8,
   "metadata": {},
   "outputs": [],
   "source": [
    "import os\n",
    "import shutil\n",
    "import enjoyml\n",
    "import pandas as pd\n",
    "import numpy as np\n",
    "import matplotlib.pyplot as plt\n",
    "from tqdm import tqdm\n",
    "from sklearn.model_selection import train_test_split\n",
    "from skimage.io import imread, imsave\n",
    "# from sklearn.svm import SVC\n",
    "# from sklearn.linear_model import LogisticRegression\n",
    "# from sklearn.decomposition import PCA\n",
    "# from joblib import dump, load\n",
    "\n",
    "# from data_engineering import read_data, get_filter_duplicates_query"
   ]
  },
  {
   "cell_type": "code",
   "execution_count": 3,
   "metadata": {},
   "outputs": [
    {
     "data": {
      "text/plain": [
       "['/job:localhost/replica:0/task:0/device:GPU:0']"
      ]
     },
     "execution_count": 3,
     "metadata": {},
     "output_type": "execute_result"
    }
   ],
   "source": [
    "import tensorflow as tf\n",
    "from keras.backend.tensorflow_backend import set_session\n",
    "from keras import backend as K\n",
    "\n",
    "config = tf.ConfigProto()\n",
    "config.gpu_options.per_process_gpu_memory_fraction = 0.45\n",
    "set_session(tf.Session(config=config))\n",
    "K.tensorflow_backend._get_available_gpus()"
   ]
  },
  {
   "cell_type": "code",
   "execution_count": 4,
   "metadata": {},
   "outputs": [],
   "source": [
    "from keras import layers, models, optimizers, callbacks, regularizers"
   ]
  },
  {
   "cell_type": "markdown",
   "metadata": {},
   "source": []
  },
  {
   "cell_type": "code",
   "execution_count": 9,
   "metadata": {},
   "outputs": [
    {
     "name": "stderr",
     "output_type": "stream",
     "text": [
      "100%|██████████| 25000/25000 [00:00<00:00, 42370.11it/s]\n"
     ]
    }
   ],
   "source": [
    "DATA_PATH = 'data/train/'\n",
    "DATAFLOW_PATH = 'data/train_flow/'\n",
    "enjoyml.path.make_dir_if_not_exist(DATAFLOW_PATH)\n",
    "enjoyml.path.make_dir_if_not_exist(DATAFLOW_PATH + 'cat')\n",
    "enjoyml.path.make_dir_if_not_exist(DATAFLOW_PATH + 'dog')\n",
    "\n",
    "for img_name in tqdm(os.listdir(DATA_PATH)):\n",
    "    label, img_number, img_format = img_name.split('.')\n",
    "    new_file_path = f'{DATAFLOW_PATH + label}/{img_number}.{img_format}'\n",
    "    shutil.move(DATA_PATH + img_name, new_file_path)"
   ]
  },
  {
   "cell_type": "code",
   "execution_count": null,
   "metadata": {},
   "outputs": [],
   "source": [
    "train_indixes, val_indexes = train_test_split(np.arange(work_features_matrix.shape[0]), \n",
    "                                              test_size=0.07, stratify=work_labels, random_state=42)\n",
    "# train_indixes, val_indexes = train_test_split(np.arange(work_features_matrix.shape[0]), \n",
    "#                                               test_size=0.50, stratify=work_labels, random_state=42)\n",
    "\n",
    "print(train_indixes.shape, val_indexes.shape)"
   ]
  },
  {
   "cell_type": "code",
   "execution_count": null,
   "metadata": {},
   "outputs": [],
   "source": [
    "fc_model_full = get_fc_model(28)\n",
    "\n",
    "fc_model_full.compile(loss='sparse_categorical_crossentropy', metrics=['acc'], optimizer='adam')\n",
    "lr_reducer = callbacks.ReduceLROnPlateau(monitor='loss', factor=5e-2, patience=3, \n",
    "                                         min_lr=1e-15, min_delta=0.03, verbose=1)\n",
    "stopper = callbacks.EarlyStopping(monitor='loss', min_delta=0.0001, patience=10, \n",
    "                                  verbose=1, restore_best_weights=True)\n",
    "\n",
    "fc_model_full.fit(work_features_matrix/255, work_labels_encoded,\n",
    "                  batch_size=256, epochs=150,\n",
    "                  callbacks=[lr_reducer, stopper])"
   ]
  },
  {
   "cell_type": "code",
   "execution_count": null,
   "metadata": {},
   "outputs": [],
   "source": [
    "fc_model.fit(train_features_matrix/255, train_labels_encoded,\n",
    "             batch_size=256, epochs=150,\n",
    "             validation_data=(val_features_matrix/255, val_labels_encoded),\n",
    "             callbacks=[lr_reducer, stopper])"
   ]
  },
  {
   "cell_type": "code",
   "execution_count": null,
   "metadata": {},
   "outputs": [],
   "source": []
  },
  {
   "cell_type": "code",
   "execution_count": null,
   "metadata": {},
   "outputs": [],
   "source": [
    "from keras.models import Model\n",
    "from keras.layers import Conv2D, MaxPool2D, Input, Dense, Dropout, Flatten, GlobalMaxPool2D\n",
    "from keras.applications.resnet_v2 import ResNet50V2\n",
    "from keras.optimizers import Adam\n",
    "from enjoyml.keras.layers import FixedPooling2D\n",
    "\n",
    "IMG_SIZE = 250\n",
    "IMAGE_NET = True\n",
    "\n",
    "resnet_conv_base = ResNet50V2(\n",
    "    include_top=False, \n",
    "    weights='imagenet' if IMAGE_NET else None, \n",
    "    input_shape=(size, size, 3)\n",
    ")  # imagenet\n",
    "\n",
    "\n",
    "def get_resnet_model():\n",
    "    input_ = Input((size, size, 3))\n",
    "    \n",
    "    x = resnet_conv_base(input_)\n",
    "\n",
    "    x = Flatten()(x)\n",
    "\n",
    "    x = Dropout(0.4)(x)\n",
    "    x = Dense(2048, activation='relu')(x)\n",
    "    x = Dropout(0.4)(x)\n",
    "    x = Dense(512, activation='relu')(x)\n",
    "    x = Dropout(0.4)(x)\n",
    "    x = Dense(128, activation='relu')(x)\n",
    "    x = Dropout(0.3)(x)\n",
    "    output = Dense(5, activation='softmax')(x)\n",
    "\n",
    "    model = Model(inputs=input_, outputs=output)\n",
    "    \n",
    "    for layer in model.layers[1].layers[:-37]:\n",
    "        layer.trainable = False\n",
    "    \n",
    "    return model\n",
    "\n",
    "resnet_model = get_resnet_model()\n",
    "if IMAGE_NET:\n",
    "    #sparse_categorical_crossentropy\n",
    "    resnet_model.compile(Adam(lr=1e-5), loss='binary_crossentropy', metrics=['accuracy'])\n",
    "else:\n",
    "    resnet_model.compile('Adam', loss='binary_crossentropy', metrics=['accuracy'])"
   ]
  },
  {
   "cell_type": "code",
   "execution_count": null,
   "metadata": {},
   "outputs": [],
   "source": [
    "resnet_model.summary()"
   ]
  },
  {
   "cell_type": "code",
   "execution_count": 13,
   "metadata": {},
   "outputs": [],
   "source": [
    "VALIDATION_SPLIT = 0.05\n",
    "TRAIN_BATCH_SIZE = 64\n",
    "VAL_BATCH_SIZE = 2\n",
    "\n",
    "IMAGES_TOTAL_COUNT = 25000"
   ]
  },
  {
   "cell_type": "code",
   "execution_count": 12,
   "metadata": {},
   "outputs": [],
   "source": [
    "from enjoyml.multiclass import calc_class_weights\n",
    "from keras.preprocessing.image import ImageDataGenerator\n",
    "\n",
    "\n",
    "data_gen_args = dict(\n",
    "    rescale=1/255.,\n",
    "    rotation_range=0.05,\n",
    "    width_shift_range=0.025,\n",
    "    height_shift_range=0.025,\n",
    "    zoom_range=[0.95, 1.05],\n",
    "#     horizontal_flip=True,\n",
    "    vertical_flip=True,\n",
    "    fill_mode='reflect',\n",
    "    validation_split=VALIDATION_SPLIT,\n",
    ")\n",
    "\n",
    "# val_data_gen_args = dict(\n",
    "#     rescale=1/255.,\n",
    "#     horizontal_flip=True,\n",
    "#     vertical_flip=True,\n",
    "# )\n",
    "\n",
    "datagen = ImageDataGenerator(**data_gen_args)\n",
    "# val_datagen = ImageDataGenerator(**val_data_gen_args)"
   ]
  },
  {
   "cell_type": "code",
   "execution_count": null,
   "metadata": {},
   "outputs": [],
   "source": [
    "\n",
    "# resnet_cells_model.fit_generator(\n",
    "#     datagen.flow(\n",
    "#         train_cells_images1, \n",
    "#         train_labels1, batch_size=64, \n",
    "#         shuffle=True\n",
    "#     ),\n",
    "#     steps_per_epoch=265,\n",
    "#     epochs=150,\n",
    "#     class_weight=calc_class_weights(train_labels1),\n",
    "#     validation_data=val_datagen.flow(\n",
    "#         test_cells_images1, \n",
    "#         test_labels1, batch_size=8, \n",
    "#         shuffle=True\n",
    "#     ),\n",
    "# #     callbacks=[model_checkpoint], \n",
    "#     validation_steps=500\n",
    "# )\n",
    "\n",
    "TRAIN_STEPS_PER_EPOCH = int(IMAGES_TOTAL_COUNT * (1 - VALIDATION_SPLIT)/TRAIN_BATCH_SIZE) + 1\n",
    "VAL_STEPS_PER_EPOCH = int(IMAGES_TOTAL_COUNT * VALIDATION_SPLIT/VAL_BATCH_SIZE) + 1\n",
    "\n",
    "resnet_cells_model.fit_generator(\n",
    "    datagen.flow_from_directory(\n",
    "        DATAFLOW_PATH,\n",
    "        target_size=(IMG_SIZE, IMG_SIZE),\n",
    "        batch_size=TRAIN_BATCH_SIZE,\n",
    "        class_mode='binary',\n",
    "        subset='training',\n",
    "    ),\n",
    "    steps_per_epoch=TRAIN_STEPS_PER_EPOCH,\n",
    "    epochs=50,\n",
    "    class_weight=calc_class_weights(train_labels1),\n",
    "    validation_data=datagen.flow_from_directory(\n",
    "        DATAFLOW_PATH,\n",
    "        target_size=(IMG_SIZE, IMG_SIZE),\n",
    "        batch_size=VAL_BATCH_SIZE,\n",
    "        class_mode='binary',\n",
    "        subset='validation',\n",
    "    ),\n",
    "#     callbacks=[model_checkpoint], \n",
    "    validation_steps=VAL_STEPS_PER_EPOCH,\n",
    ")"
   ]
  },
  {
   "cell_type": "code",
   "execution_count": null,
   "metadata": {},
   "outputs": [],
   "source": []
  }
 ],
 "metadata": {
  "kernelspec": {
   "display_name": "Python 3",
   "language": "python",
   "name": "python3"
  },
  "language_info": {
   "codemirror_mode": {
    "name": "ipython",
    "version": 3
   },
   "file_extension": ".py",
   "mimetype": "text/x-python",
   "name": "python",
   "nbconvert_exporter": "python",
   "pygments_lexer": "ipython3",
   "version": "3.6.9"
  }
 },
 "nbformat": 4,
 "nbformat_minor": 4
}
